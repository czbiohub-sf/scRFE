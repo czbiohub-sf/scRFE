{
 "cells": [
  {
   "cell_type": "code",
   "execution_count": 1,
   "metadata": {},
   "outputs": [],
   "source": [
    "from scRFE.scRFE import scRFE"
   ]
  },
  {
   "cell_type": "code",
   "execution_count": 3,
   "metadata": {},
   "outputs": [
    {
     "ename": "NameError",
     "evalue": "name 'read_h5ad' is not defined",
     "output_type": "error",
     "traceback": [
      "\u001b[0;31m---------------------------------------------------------------------------\u001b[0m",
      "\u001b[0;31mNameError\u001b[0m                                 Traceback (most recent call last)",
      "\u001b[0;32m<ipython-input-3-fc12c3d238c6>\u001b[0m in \u001b[0;36m<module>\u001b[0;34m\u001b[0m\n\u001b[0;32m----> 1\u001b[0;31m \u001b[0madataLiver\u001b[0m \u001b[0;34m=\u001b[0m \u001b[0mread_h5ad\u001b[0m\u001b[0;34m(\u001b[0m\u001b[0;34m'/Users/madelinepark/Downloads/Liver_droplet.h5ad'\u001b[0m\u001b[0;34m)\u001b[0m\u001b[0;34m\u001b[0m\u001b[0;34m\u001b[0m\u001b[0m\n\u001b[0m",
      "\u001b[0;31mNameError\u001b[0m: name 'read_h5ad' is not defined"
     ]
    }
   ],
   "source": [
    "adataLiver = read_h5ad('/Users/madelinepark/Downloads/Liver_droplet.h5ad')"
   ]
  },
  {
   "cell_type": "code",
   "execution_count": 4,
   "metadata": {},
   "outputs": [
    {
     "ename": "NameError",
     "evalue": "name 'pd' is not defined",
     "output_type": "error",
     "traceback": [
      "\u001b[0;31m---------------------------------------------------------------------------\u001b[0m",
      "\u001b[0;31mNameError\u001b[0m                                 Traceback (most recent call last)",
      "\u001b[0;32m<ipython-input-4-48eb08f58a46>\u001b[0m in \u001b[0;36m<module>\u001b[0;34m\u001b[0m\n\u001b[0;32m----> 1\u001b[0;31m \u001b[0mmouse_tfs\u001b[0m \u001b[0;34m=\u001b[0m \u001b[0mpd\u001b[0m\u001b[0;34m.\u001b[0m\u001b[0mread_csv\u001b[0m\u001b[0;34m(\u001b[0m\u001b[0;34m\"/Users/madelinepark/Downloads/GO_term_summary_20171110_222852.csv\"\u001b[0m\u001b[0;34m)\u001b[0m\u001b[0;34m\u001b[0m\u001b[0;34m\u001b[0m\u001b[0m\n\u001b[0m",
      "\u001b[0;31mNameError\u001b[0m: name 'pd' is not defined"
     ]
    }
   ],
   "source": [
    "mouse_tfs = pd.read_csv(\"/Users/madelinepark/Downloads/GO_term_summary_20171110_222852.csv\")"
   ]
  },
  {
   "cell_type": "code",
   "execution_count": 5,
   "metadata": {},
   "outputs": [
    {
     "name": "stdout",
     "output_type": "stream",
     "text": [
      "# packages in environment at /Users/madelinepark/anaconda3/envs/scRFE:\n",
      "#\n",
      "# Name                    Version                   Build  Channel\n",
      "anndata                   0.6.21                   pypi_0    pypi\n",
      "appnope                   0.1.0            py36hf537a9a_0  \n",
      "backcall                  0.2.0                      py_0  \n",
      "ca-certificates           2020.1.1                      0  \n",
      "certifi                   2020.6.20                py36_0  \n",
      "cycler                    0.10.0                   pypi_0    pypi\n",
      "decorator                 4.4.2                      py_0  \n",
      "entrypoints               0.3                      py36_0  \n",
      "h5py                      2.10.0                   pypi_0    pypi\n",
      "ipykernel                 5.3.0            py36h5ca1d4c_0  \n",
      "ipython                   7.15.0                   py36_0  \n",
      "ipython_genutils          0.2.0                    py36_0  \n",
      "jedi                      0.17.1                   py36_0  \n",
      "joblib                    0.15.1                   pypi_0    pypi\n",
      "jupyter_client            6.1.3                      py_0  \n",
      "jupyter_core              4.6.3                    py36_0  \n",
      "kiwisolver                1.2.0                    pypi_0    pypi\n",
      "libcxx                    10.0.0                        1  \n",
      "libedit                   3.1.20191231         haf1e3a3_0  \n",
      "libffi                    3.3                  h0a44026_1  \n",
      "libsodium                 1.0.16               h3efe00b_0  \n",
      "llvmlite                  0.33.0                   pypi_0    pypi\n",
      "matplotlib                3.2.1                    pypi_0    pypi\n",
      "matplotlib-venn           0.11.5                   pypi_0    pypi\n",
      "natsort                   7.0.1                    pypi_0    pypi\n",
      "ncurses                   6.2                  h0a44026_1  \n",
      "networkx                  2.4                      pypi_0    pypi\n",
      "numba                     0.50.0                   pypi_0    pypi\n",
      "numexpr                   2.7.1                    pypi_0    pypi\n",
      "numpy                     1.16.4                   pypi_0    pypi\n",
      "openssl                   1.1.1g               h1de35cc_0  \n",
      "pandas                    0.24.2                   pypi_0    pypi\n",
      "parso                     0.7.0                      py_0  \n",
      "patsy                     0.5.1                    pypi_0    pypi\n",
      "pexpect                   4.8.0                    py36_0  \n",
      "pickleshare               0.7.5                    py36_0  \n",
      "pip                       19.1.1                   py36_0  \n",
      "prompt-toolkit            3.0.5                      py_0  \n",
      "ptyprocess                0.6.0                    py36_0  \n",
      "pygments                  2.6.1                      py_0  \n",
      "pyparsing                 2.4.7                    pypi_0    pypi\n",
      "python                    3.6.10               hf48f09d_2  \n",
      "python-dateutil           2.8.1                      py_0  \n",
      "pytz                      2020.1                   pypi_0    pypi\n",
      "pyzmq                     18.1.1           py36h0a44026_0  \n",
      "readline                  8.0                  h1de35cc_0  \n",
      "scanpy                    1.4.3                    pypi_0    pypi\n",
      "scikit-learn              0.21.2                   pypi_0    pypi\n",
      "scipy                     1.2.1                    pypi_0    pypi\n",
      "scrfe                     1.1                      pypi_0    pypi\n",
      "seaborn                   0.9.0                    pypi_0    pypi\n",
      "setuptools                41.0.1                   pypi_0    pypi\n",
      "six                       1.15.0                     py_0  \n",
      "sqlite                    3.32.3               hffcf06c_0  \n",
      "statsmodels               0.11.1                   pypi_0    pypi\n",
      "tables                    3.6.1                    pypi_0    pypi\n",
      "tbb                       2019.0                   pypi_0    pypi\n",
      "tk                        8.6.10               hb0a8c7a_0  \n",
      "tornado                   6.0.4            py36h1de35cc_1  \n",
      "tqdm                      4.46.1                   pypi_0    pypi\n",
      "traitlets                 4.3.3                    py36_0  \n",
      "umap-learn                0.4.4                    pypi_0    pypi\n",
      "wcwidth                   0.2.4                      py_0  \n",
      "wheel                     0.33.4                   pypi_0    pypi\n",
      "xz                        5.2.5                h1de35cc_0  \n",
      "zeromq                    4.3.1                h0a44026_3  \n",
      "zlib                      1.2.11               h1de35cc_3  \n",
      "\n",
      "Note: you may need to restart the kernel to use updated packages.\n"
     ]
    }
   ],
   "source": [
    "conda list"
   ]
  },
  {
   "cell_type": "code",
   "execution_count": null,
   "metadata": {},
   "outputs": [],
   "source": []
  }
 ],
 "metadata": {
  "kernelspec": {
   "display_name": "scRFE",
   "language": "python",
   "name": "scrfe"
  },
  "language_info": {
   "codemirror_mode": {
    "name": "ipython",
    "version": 3
   },
   "file_extension": ".py",
   "mimetype": "text/x-python",
   "name": "python",
   "nbconvert_exporter": "python",
   "pygments_lexer": "ipython3",
   "version": "3.6.10"
  }
 },
 "nbformat": 4,
 "nbformat_minor": 2
}
