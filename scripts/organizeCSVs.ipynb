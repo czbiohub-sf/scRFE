{
 "cells": [
  {
   "cell_type": "code",
   "execution_count": 3,
   "metadata": {},
   "outputs": [],
   "source": [
    "import scanpy as sc\n",
    "import pandas as pd\n",
    "\n",
    "sc.settings.verbosity=3"
   ]
  },
  {
   "cell_type": "code",
   "execution_count": 4,
   "metadata": {},
   "outputs": [],
   "source": [
    "import seaborn as sns\n",
    "\n",
    "import matplotlib.pyplot as plt\n",
    "plt.rcParams['pdf.fonttype'] = 42\n",
    "plt.rcParams['ps.fonttype'] = 42\n",
    "\n",
    "# show figures in the notebook\n",
    "%matplotlib inline \n",
    "\n",
    "\n",
    "# sc.settings.set_figure_params(dpi=300) # save umaps as non-vectorial hi-res images\n",
    "# # plt.rcParams['figure.figsize']=(10,10) # make figures square if not using the setting above\n",
    "\n",
    "# show figures in the notebook\n",
    "%matplotlib inline"
   ]
  },
  {
   "cell_type": "code",
   "execution_count": 12,
   "metadata": {},
   "outputs": [
    {
     "name": "stdout",
     "output_type": "stream",
     "text": [
      "/Users/madelinepark/Downloads/syncAug2/results2/tissueCelltype2\n"
     ]
    }
   ],
   "source": [
    "cd /users/madelinepark/downloads/syncAug2/results2/tissueCelltype2"
   ]
  },
  {
   "cell_type": "code",
   "execution_count": 9,
   "metadata": {},
   "outputs": [],
   "source": [
    "scrfe_res = \"./scRFE/\""
   ]
  },
  {
   "cell_type": "code",
   "execution_count": 10,
   "metadata": {},
   "outputs": [
    {
     "ename": "FileNotFoundError",
     "evalue": "[Errno 2] No such file or directory: './scRFE/'",
     "output_type": "error",
     "traceback": [
      "\u001b[0;31m---------------------------------------------------------------------------\u001b[0m",
      "\u001b[0;31mFileNotFoundError\u001b[0m                         Traceback (most recent call last)",
      "\u001b[0;32m<ipython-input-10-61f635ab8747>\u001b[0m in \u001b[0;36m<module>\u001b[0;34m\u001b[0m\n\u001b[1;32m      1\u001b[0m \u001b[0;32mimport\u001b[0m \u001b[0mos\u001b[0m\u001b[0;34m\u001b[0m\u001b[0;34m\u001b[0m\u001b[0m\n\u001b[0;32m----> 2\u001b[0;31m \u001b[0mos\u001b[0m\u001b[0;34m.\u001b[0m\u001b[0mlistdir\u001b[0m\u001b[0;34m(\u001b[0m\u001b[0mscrfe_res\u001b[0m\u001b[0;34m)\u001b[0m\u001b[0;34m\u001b[0m\u001b[0;34m\u001b[0m\u001b[0m\n\u001b[0m",
      "\u001b[0;31mFileNotFoundError\u001b[0m: [Errno 2] No such file or directory: './scRFE/'"
     ]
    }
   ],
   "source": [
    "import os\n",
    "os.listdir(scrfe_res)"
   ]
  },
  {
   "cell_type": "code",
   "execution_count": null,
   "metadata": {},
   "outputs": [],
   "source": []
  },
  {
   "cell_type": "code",
   "execution_count": null,
   "metadata": {},
   "outputs": [],
   "source": []
  },
  {
   "cell_type": "code",
   "execution_count": null,
   "metadata": {},
   "outputs": [],
   "source": [
    "adata = "
   ]
  },
  {
   "cell_type": "code",
   "execution_count": 2,
   "metadata": {},
   "outputs": [],
   "source": [
    "import xlsxwriter\n",
    "adata.obs['louvain'] = adata.obs['louvain'].astype(int)\n",
    "adata.obs['tissue'] = adata.obs['tissue'].astype(str)\n",
    "adata.obs['mouse.id'] = adata.obs['mouse.id'].astype(str)\n",
    "adata.obs['age'] = adata.obs['age'].astype(str)\n",
    "adata.obs['sex'] = adata.obs['sex'].astype(str)\n",
    "adata.obs['cell_ontology_class_reannotated'] = adata.obs['cell_ontology_class_reannotated'].astype(str)\n"
   ]
  },
  {
   "cell_type": "code",
   "execution_count": null,
   "metadata": {},
   "outputs": [],
   "source": [
    "# Create a Pandas Excel writer using XlsxWriter as the engine.\n",
    "writer = pd.ExcelWriter('maca-droplet-summary.xlsx', engine='xlsxwriter')\n",
    "df = adata.obs.groupby(['age','sex','mouse.id','tissue'])['age'].agg({'# cells':len})\n",
    "df.to_excel(writer, sheet_name='droplet-summary')\n",
    "df = adata.obs.groupby(['tissue','cell_ontology_class_reannotated','age'])['age'].agg({'# cells':len})\n",
    "df.to_excel(writer, sheet_name='droplet-cell-type-summary')\n",
    "df = adata.obs.groupby(['louvain','cell_ontology_class_reannotated','tissue','age'])['age'].agg({'# cells':len})\n",
    "df.to_excel(writer, sheet_name='cluster-cell-type-tissue-age')\n",
    "df = adata.obs.groupby(['cell_ontology_class_reannotated','louvain','tissue','age'])['age'].agg({'# cells':len})\n",
    "df.to_excel(writer, sheet_name='cell-type-cluster-tissue-age')\n",
    "df = adata.obs.groupby(['cell_ontology_class_reannotated','tissue','louvain'])['age'].agg({'len':len})\n",
    "df = df.unstack('louvain')\n",
    "df.columns = df.columns.droplevel(0)\n",
    "df[df.columns] = df[df.columns].apply(pd.to_numeric)#, errors='coerce')\n",
    "df['sum'] = df.sum(axis=1)\n",
    "df = df.loc[:, df.columns].div(df['sum'], axis=0)*100\n",
    "df = df.drop('sum',axis=1)\n",
    "df = df.round(2)\n",
    "df = df.replace(np.nan,' ')\n",
    "df.to_excel(writer, sheet_name='cell-type_tissue_louvain-number')\n",
    "df = adata.obs.groupby(['louvain','tissue'])['age'].agg({'len':len})\n",
    "df = df.unstack('tissue')\n",
    "df.columns = df.columns.droplevel(0)\n",
    "df[df.columns] = df[df.columns].apply(pd.to_numeric)#, errors='coerce')\n",
    "df['sum'] = df.sum(axis=1)\n",
    "df = df.loc[:, df.columns].div(df['sum'], axis=0)*100\n",
    "df = df.drop('sum',axis=1)\n",
    "df = df.round(2)\n",
    "df = df.replace(np.nan,' ')\n",
    "df.to_excel(writer, sheet_name='tissue_louvain-number')\n",
    "df = adata.obs.groupby(['louvain','cell_ontology_class_reannotated'])['age'].agg({'len':len})\n",
    "df = df.unstack('cell_ontology_class_reannotated')\n",
    "df.columns = df.columns.droplevel(0)\n",
    "df[df.columns] = df[df.columns].apply(pd.to_numeric)#, errors='coerce')\n",
    "df['sum'] = df.sum(axis=1)\n",
    "df = df.loc[:, df.columns].div(df['sum'], axis=0)*100\n",
    "df = df.drop('sum',axis=1)\n",
    "df = df.round(2)\n",
    "df = df.replace(np.nan,' ')\n",
    "df.to_excel(writer, sheet_name='louvain-number_cell-type')"
   ]
  },
  {
   "cell_type": "code",
   "execution_count": null,
   "metadata": {},
   "outputs": [],
   "source": [
    "# Close the Pandas Excel writer and output the Excel file.\n",
    "writer.save()"
   ]
  }
 ],
 "metadata": {
  "kernelspec": {
   "display_name": "Python(scRFE1)",
   "language": "python",
   "name": "scrfe1"
  },
  "language_info": {
   "codemirror_mode": {
    "name": "ipython",
    "version": 3
   },
   "file_extension": ".py",
   "mimetype": "text/x-python",
   "name": "python",
   "nbconvert_exporter": "python",
   "pygments_lexer": "ipython3",
   "version": "3.7.6"
  }
 },
 "nbformat": 4,
 "nbformat_minor": 4
}
