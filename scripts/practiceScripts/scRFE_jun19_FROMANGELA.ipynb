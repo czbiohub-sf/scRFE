{
 "cells": [
  {
   "cell_type": "markdown",
   "metadata": {},
   "source": [
    "# scRFEjun19"
   ]
  },
  {
   "cell_type": "code",
   "execution_count": 1,
   "metadata": {},
   "outputs": [],
   "source": [
    "# AnnDatasubset\n",
    "# Angela sent to Madeline on June 22"
   ]
  },
  {
   "cell_type": "code",
   "execution_count": 5,
   "metadata": {},
   "outputs": [],
   "source": [
    "# Imports \n",
    "import numpy as np\n",
    "import pandas as pd\n",
    "import scanpy as sc\n",
    "import random\n",
    "from anndata import read_h5ad\n",
    "from sklearn.ensemble import RandomForestClassifier\n",
    "from sklearn.model_selection import train_test_split\n",
    "from sklearn.feature_selection import SelectFromModel\n",
    "from sklearn.metrics import accuracy_score\n",
    "from sklearn.feature_selection import RFE\n",
    "from sklearn.feature_selection import RFECV\n",
    "import seaborn as sns\n",
    "import matplotlib.pyplot as plt\n",
    "import scanpy.external as sce\n",
    "import logging as logg"
   ]
  },
  {
   "cell_type": "code",
   "execution_count": 3,
   "metadata": {},
   "outputs": [
    {
     "data": {
      "text/html": [
       "<div>\n",
       "<style scoped>\n",
       "    .dataframe tbody tr th:only-of-type {\n",
       "        vertical-align: middle;\n",
       "    }\n",
       "\n",
       "    .dataframe tbody tr th {\n",
       "        vertical-align: top;\n",
       "    }\n",
       "\n",
       "    .dataframe thead th {\n",
       "        text-align: right;\n",
       "    }\n",
       "</style>\n",
       "<table border=\"1\" class=\"dataframe\">\n",
       "  <thead>\n",
       "    <tr style=\"text-align: right;\">\n",
       "      <th></th>\n",
       "      <th>MGI Gene/Marker ID</th>\n",
       "      <th>Symbol</th>\n",
       "      <th>Name</th>\n",
       "      <th>Chr</th>\n",
       "      <th>Qualifier</th>\n",
       "      <th>Annotated Term</th>\n",
       "      <th>Context</th>\n",
       "      <th>Proteoform</th>\n",
       "      <th>Evidence</th>\n",
       "      <th>Inferred From</th>\n",
       "      <th>Reference(s)</th>\n",
       "    </tr>\n",
       "  </thead>\n",
       "  <tbody>\n",
       "    <tr>\n",
       "      <th>0</th>\n",
       "      <td>MGI:1919321</td>\n",
       "      <td>2010315B03Rik</td>\n",
       "      <td>RIKEN cDNA 2010315B03 gene</td>\n",
       "      <td>9</td>\n",
       "      <td>NaN</td>\n",
       "      <td>DNA binding transcription factor activity</td>\n",
       "      <td>NaN</td>\n",
       "      <td>NaN</td>\n",
       "      <td>IBA</td>\n",
       "      <td>PTN001225609</td>\n",
       "      <td>J:161428</td>\n",
       "    </tr>\n",
       "    <tr>\n",
       "      <th>1</th>\n",
       "      <td>MGI:1924053</td>\n",
       "      <td>2410141K09Rik</td>\n",
       "      <td>RIKEN cDNA 2410141K09 gene</td>\n",
       "      <td>13</td>\n",
       "      <td>NaN</td>\n",
       "      <td>DNA binding transcription factor activity</td>\n",
       "      <td>NaN</td>\n",
       "      <td>NaN</td>\n",
       "      <td>IBA</td>\n",
       "      <td>PTN001225609</td>\n",
       "      <td>J:161428</td>\n",
       "    </tr>\n",
       "    <tr>\n",
       "      <th>2</th>\n",
       "      <td>MGI:1922662</td>\n",
       "      <td>2610021A01Rik</td>\n",
       "      <td>RIKEN cDNA 2610021A01 gene</td>\n",
       "      <td>7</td>\n",
       "      <td>NaN</td>\n",
       "      <td>DNA binding transcription factor activity</td>\n",
       "      <td>NaN</td>\n",
       "      <td>NaN</td>\n",
       "      <td>IBA</td>\n",
       "      <td>PTN001225609</td>\n",
       "      <td>J:161428</td>\n",
       "    </tr>\n",
       "    <tr>\n",
       "      <th>3</th>\n",
       "      <td>MGI:1919389</td>\n",
       "      <td>2610044O15Rik8</td>\n",
       "      <td>RIKEN cDNA 2610044O15 gene</td>\n",
       "      <td>8</td>\n",
       "      <td>NaN</td>\n",
       "      <td>DNA binding transcription factor activity</td>\n",
       "      <td>NaN</td>\n",
       "      <td>NaN</td>\n",
       "      <td>IBA</td>\n",
       "      <td>PTN001225609</td>\n",
       "      <td>J:161428</td>\n",
       "    </tr>\n",
       "    <tr>\n",
       "      <th>4</th>\n",
       "      <td>MGI:3045322</td>\n",
       "      <td>4932411N23Rik</td>\n",
       "      <td>RIKEN cDNA 4932411N23 gene</td>\n",
       "      <td>X</td>\n",
       "      <td>NaN</td>\n",
       "      <td>RNA polymerase II transcription factor activit...</td>\n",
       "      <td>NaN</td>\n",
       "      <td>NaN</td>\n",
       "      <td>IBA</td>\n",
       "      <td>PTN000067606</td>\n",
       "      <td>J:161428</td>\n",
       "    </tr>\n",
       "  </tbody>\n",
       "</table>\n",
       "</div>"
      ],
      "text/plain": [
       "  MGI Gene/Marker ID          Symbol                        Name Chr  \\\n",
       "0        MGI:1919321   2010315B03Rik  RIKEN cDNA 2010315B03 gene   9   \n",
       "1        MGI:1924053   2410141K09Rik  RIKEN cDNA 2410141K09 gene  13   \n",
       "2        MGI:1922662   2610021A01Rik  RIKEN cDNA 2610021A01 gene   7   \n",
       "3        MGI:1919389  2610044O15Rik8  RIKEN cDNA 2610044O15 gene   8   \n",
       "4        MGI:3045322   4932411N23Rik  RIKEN cDNA 4932411N23 gene   X   \n",
       "\n",
       "  Qualifier                                     Annotated Term Context  \\\n",
       "0       NaN          DNA binding transcription factor activity     NaN   \n",
       "1       NaN          DNA binding transcription factor activity     NaN   \n",
       "2       NaN          DNA binding transcription factor activity     NaN   \n",
       "3       NaN          DNA binding transcription factor activity     NaN   \n",
       "4       NaN  RNA polymerase II transcription factor activit...     NaN   \n",
       "\n",
       "  Proteoform Evidence  Inferred From Reference(s)  \n",
       "0        NaN      IBA  PTN001225609     J:161428   \n",
       "1        NaN      IBA  PTN001225609     J:161428   \n",
       "2        NaN      IBA  PTN001225609     J:161428   \n",
       "3        NaN      IBA  PTN001225609     J:161428   \n",
       "4        NaN      IBA  PTN000067606     J:161428   "
      ]
     },
     "execution_count": 3,
     "metadata": {},
     "output_type": "execute_result"
    }
   ],
   "source": [
    "mouse_tfs = pd.read_csv(\"/home/angela/maca/GO_term_summary_20171110_222852.csv\")\n",
    "mouse_tfs.head()"
   ]
  },
  {
   "cell_type": "code",
   "execution_count": 32,
   "metadata": {},
   "outputs": [
    {
     "data": {
      "text/plain": [
       "AnnData object with n_obs × n_vars = 245389 × 20138 \n",
       "    obs: 'age', 'cell', 'cell_ontology_class', 'cell_ontology_id', 'free_annotation', 'method', 'mouse.id', 'n_genes', 'sex', 'subtissue', 'tissue', 'tissue_free_annotation', 'n_counts', 'louvain', 'leiden'\n",
       "    var: 'n_cells', 'means', 'dispersions', 'dispersions_norm', 'highly_variable'\n",
       "    uns: 'age_colors', 'leiden', 'louvain', 'louvain_colors', 'neighbors', 'pca', 'tissue_colors'\n",
       "    obsm: 'X_pca', 'X_umap'\n",
       "    varm: 'PCs'"
      ]
     },
     "execution_count": 32,
     "metadata": {},
     "output_type": "execute_result"
    }
   ],
   "source": [
    "adata = read_h5ad(\n",
    "    \"/home/angela/maca/tabula-muris-senis/0_data_ingest/01_figure_1/tabula-muris-senis-droplet-processed-official-annotations.h5ad\")\n",
    "adata"
   ]
  },
  {
   "cell_type": "code",
   "execution_count": 33,
   "metadata": {},
   "outputs": [
    {
     "data": {
      "text/plain": [
       "View of AnnData object with n_obs × n_vars = 245389 × 1044 \n",
       "    obs: 'age', 'cell', 'cell_ontology_class', 'cell_ontology_id', 'free_annotation', 'method', 'mouse.id', 'n_genes', 'sex', 'subtissue', 'tissue', 'tissue_free_annotation', 'n_counts', 'louvain', 'leiden'\n",
       "    var: 'n_cells', 'means', 'dispersions', 'dispersions_norm', 'highly_variable'\n",
       "    uns: 'age_colors', 'leiden', 'louvain', 'louvain_colors', 'neighbors', 'pca', 'tissue_colors'\n",
       "    obsm: 'X_pca', 'X_umap'\n",
       "    varm: 'PCs'"
      ]
     },
     "execution_count": 33,
     "metadata": {},
     "output_type": "execute_result"
    }
   ],
   "source": [
    "adata = adata[:,adata.var_names[adata.var_names.isin(mouse_tfs['Symbol'])]]\n",
    "adata"
   ]
  },
  {
   "cell_type": "code",
   "execution_count": null,
   "metadata": {},
   "outputs": [],
   "source": [
    "# adataLiver = read_h5ad('/Users/madelinepark/Downloads/Liver_droplet.h5ad')\n",
    "\n",
    "adataLiver = adata[adata.obs['tissue']=='Liver'].copy()\n",
    "adataLiver"
   ]
  },
  {
   "cell_type": "code",
   "execution_count": 22,
   "metadata": {},
   "outputs": [],
   "source": [
    "def remove_cats(adata):\n",
    "\n",
    "    cat_columns = adata.obs.select_dtypes(['category']).columns\n",
    "    adata.obs[cat_columns] = adata.obs[cat_columns].astype(str)\n",
    "    \n",
    "    return adata"
   ]
  },
  {
   "cell_type": "code",
   "execution_count": 23,
   "metadata": {},
   "outputs": [],
   "source": [
    "def filterNormalize (dataMatrix, classOfInterest):\n",
    "    np.random.seed(644685)\n",
    "#     sc.logging.print_versions()\n",
    "#     sc.settings.verbosity = 3      \n",
    "#     sc.logging.print_versions()\n",
    "#     dataMatrix.obs['n_counts'] = dataMatrix.X.sum(axis=1).A1\n",
    "    sc.pp.filter_cells(dataMatrix, min_genes=0)\n",
    "    sc.pp.filter_genes(dataMatrix, min_cells=0)\n",
    "#     dataMatrix = dataMatrix[dataMatrix.obs['n_counts'] > 1500, :]\n",
    "#     sc.pp.normalize_per_cell(dataMatrix, counts_per_cell_after=1e5)\n",
    "#     sc.pp.log1p(dataMatrix)\n",
    "#     dataMatrix.raw = dataMatrix\n",
    "    dataMatrix = dataMatrix[dataMatrix.obs[classOfInterest]!='nan']\n",
    "    dataMatrix = dataMatrix[~dataMatrix.obs[classOfInterest].isna()]\n",
    "    \n",
    "    return dataMatrix"
   ]
  },
  {
   "cell_type": "code",
   "execution_count": 24,
   "metadata": {},
   "outputs": [],
   "source": [
    "def labelSplit (dataMatrix, classOfInterest, labelOfInterest):\n",
    "    dataMatrix = filterNormalize (dataMatrix, classOfInterest)\n",
    "    dataMatrix.obs['classification_group'] = 'B'\n",
    "    dataMatrix.obs.loc[dataMatrix.obs[dataMatrix.obs[classOfInterest]==labelOfInterest]\n",
    "                   .index,'classification_group'] = 'A'\n",
    "    return dataMatrix"
   ]
  },
  {
   "cell_type": "code",
   "execution_count": 25,
   "metadata": {},
   "outputs": [],
   "source": [
    "def downsampleToSmallestCategory(dataMatrix, \n",
    "        classOfInterest = 'classification_group',\n",
    "        random_state = None,\n",
    "        min_cells = 15,\n",
    "        keep_small_categories = True\n",
    ") -> sc.AnnData:\n",
    "    \"\"\"\n",
    "    returns an annData object in which all categories in 'classOfInterest' have\n",
    "    the same size\n",
    "    classOfInterest\n",
    "        column with the categories to downsample\n",
    "    min_cells\n",
    "        Minimum number of cells to downsample.\n",
    "        Categories having less than `min_cells` are discarded unless\n",
    "        keep_small_categories is True\n",
    "    keep_small_categories\n",
    "        Be default categories with less than min_cells are discarded.\n",
    "        Set to true to keep them\n",
    "    \"\"\"\n",
    "\n",
    "    counts = dataMatrix.obs[classOfInterest].value_counts(sort=False)\n",
    "    if len(counts[counts < min_cells]) > 0 and keep_small_categories is False:\n",
    "        logg.warning(\n",
    "            \"The following categories have less than {} cells and will be \"\n",
    "            \"ignored: {}\".format(min_cells, dict(counts[counts < min_cells]))\n",
    "        )\n",
    "    min_size = min(counts[counts >= min_cells])\n",
    "    sample_selection = None\n",
    "    for sample, num_cells in counts.items():\n",
    "        if num_cells <= min_cells:\n",
    "            if keep_small_categories:\n",
    "                sel = dataMatrix.obs.index.isin(\n",
    "                    dataMatrix.obs[dataMatrix.obs[classOfInterest] == sample].index)\n",
    "            else:\n",
    "                continue\n",
    "        else:\n",
    "            sel = dataMatrix.obs.index.isin(\n",
    "                dataMatrix.obs[dataMatrix.obs[classOfInterest] == sample]\n",
    "                .sample(min_size, random_state=random_state)\n",
    "                .index\n",
    "            )\n",
    "        if sample_selection is None:\n",
    "            sample_selection = sel\n",
    "        else:\n",
    "            sample_selection |= sel\n",
    "    logg.info(\n",
    "        \"The cells in category {!r} had been down-sampled to have each {} cells. \"\n",
    "        \"The original counts where {}\".format(classOfInterest, min_size, dict(counts))\n",
    "    )\n",
    "    return dataMatrix[sample_selection].copy()"
   ]
  },
  {
   "cell_type": "code",
   "execution_count": 26,
   "metadata": {},
   "outputs": [],
   "source": [
    "def makeOneForest (dataMatrix, classOfInterest, labelOfInterest, nEstimators = 5000, \n",
    "                   randomState = 0,  nJobs = -1, oobScore = True, Step = 0.2, Cv = 5): \n",
    "    \"\"\"\n",
    "    Builds and runs a random forest for one label in a class of interest\n",
    "    \n",
    "    Parameters\n",
    "    ----------\n",
    "    dataMatrix : anndata object\n",
    "        The data file of interest\n",
    "    classOfInterest : str\n",
    "        The class you will split the data by in the set of dataMatrix.obs\n",
    "    labelOfInterest : str\n",
    "        The specific label within the class that the random forezt will run a \n",
    "        \"one vs all\" classification on\n",
    "    nEstimators : int\n",
    "        The number of trees in the forest\n",
    "    randomState : int\n",
    "        Controls random number being used\n",
    "    nJobs : int\n",
    "        The number of jobs to run in parallel\n",
    "    oobScore : bool\n",
    "        Whether to use out-of-bag samples to estimate the generalization accuracy\n",
    "    Step : float\n",
    "        Corresponds to percentage of features to remove at each iteration\n",
    "    Cv : int\n",
    "        Determines the cross-validation splitting strategy\n",
    "        \n",
    "    Returns\n",
    "    -------\n",
    "    feature_selected : list\n",
    "        list of top features from random forest\n",
    "    selector.estimator_.feature_importances_ : list\n",
    "        list of top ginis corresponding to to features\n",
    "    \n",
    "    \"\"\"\n",
    "    splitDataMatrix = labelSplit (dataMatrix, classOfInterest, labelOfInterest)\n",
    "    downsampledMatrix = downsampleToSmallestCategory (dataMatrix = splitDataMatrix, \n",
    "        classOfInterest = 'classification_group',\n",
    "        random_state = None, min_cells = 15, keep_small_categories = False)\n",
    "    print('downsampled Matrix')\n",
    "#     print(\"labelOfInterest\")\n",
    "\n",
    "    print(pd.DataFrame(downsampledMatrix.obs.groupby(['classification_group',classOfInterest])[classOfInterest].count()))\n",
    "#     display (downsampledMatrix.obs['classification_group'])\n",
    "#     print(set(downsampledMatrix.obs['classification_group']))\n",
    "    \n",
    "    feat_labels = downsampledMatrix.var_names \n",
    "    X = downsampledMatrix.X\n",
    "    y = downsampledMatrix.obs['classification_group']\n",
    "    \n",
    "    clf = RandomForestClassifier(n_estimators = nEstimators, random_state = randomState, \n",
    "                                 n_jobs = nJobs, oob_score = oobScore)\n",
    "    selector = RFECV(clf, step = Step, cv = Cv)\n",
    "    \n",
    "    clf.fit(X, y)\n",
    "    selector.fit(X, y)\n",
    "    feature_selected = feat_labels[selector.support_] \n",
    "#     display(downsampledMatrix.obs)\n",
    "\n",
    "    dataMatrix.obs['classification_group'] = 'B'\n",
    "#     print('corresponding')\n",
    "#     display(downsampledMatrix.obs)\n",
    "\n",
    "    return feature_selected, selector.estimator_.feature_importances_"
   ]
  },
  {
   "cell_type": "code",
   "execution_count": 27,
   "metadata": {},
   "outputs": [],
   "source": [
    "def resultWrite (classOfInterest, results_df, labelOfInterest,\n",
    "                feature_selected, feature_importance):\n",
    "\n",
    "    column_headings = [] \n",
    "    column_headings.append(labelOfInterest)\n",
    "    column_headings.append(labelOfInterest + '_gini')\n",
    "    resaux = pd.DataFrame(columns = column_headings)\n",
    "    resaux[labelOfInterest] = feature_selected\n",
    "    resaux[labelOfInterest + '_gini'] = feature_importance\n",
    "    resaux = resaux.sort_values(by = [labelOfInterest + '_gini'], ascending = False)\n",
    "    resaux.reset_index(drop = True, inplace = True)\n",
    "\n",
    "    results_df = pd.concat([results_df, resaux], axis=1)\n",
    "    return results_df "
   ]
  },
  {
   "cell_type": "code",
   "execution_count": 28,
   "metadata": {},
   "outputs": [],
   "source": [
    "def scRFE(adata, classOfInterest, nEstimators = 5000, randomState = 0,  \n",
    "                  nJobs = -1, oobScore = True, Step = 0.2, Cv = 5):\n",
    "    \"\"\"\n",
    "    Builds and runs a random forest with one vs all classification for each label \n",
    "    for one class of interest\n",
    "    \n",
    "    Parameters\n",
    "    ----------\n",
    "    dataMatrix : anndata object\n",
    "        The data file of interest\n",
    "    classOfInterest : str\n",
    "        The class you will split the data by in the set of dataMatrix.obs\n",
    "    labelOfInterest : str\n",
    "        The specific label within the class that the random forezt will run a \n",
    "        \"one vs all\" classification on\n",
    "    nEstimators : int\n",
    "        The number of trees in the forest\n",
    "    randomState : int\n",
    "        Controls random number being used\n",
    "    nJobs : int\n",
    "        The number of jobs to run in parallel\n",
    "    oobScore : bool\n",
    "        Whether to use out-of-bag samples to estimate the generalization accuracy\n",
    "    Step : float\n",
    "        Corresponds to percentage of features to remove at each iteration\n",
    "    Cv : int\n",
    "        Determines the cross-validation splitting strategy\n",
    "        \n",
    "    Returns\n",
    "    -------\n",
    "    results_df : pd.DataFrame\n",
    "        Dataframe with results for each label in the class, formatted as \n",
    "        \"label\" for one column, then \"label + gini\" for the corresponding column\n",
    "    \n",
    "    \"\"\"\n",
    "    dataMatrix = adata.copy()\n",
    "    dataMatrix = remove_cats(dataMatrix)\n",
    "    \n",
    "    print(\"Original dataset \",dataMatrix.shape)\n",
    "    dataMatrix = filterNormalize (dataMatrix, classOfInterest)\n",
    "    print(\"Filtered dataset \",dataMatrix.shape)\n",
    "    print(pd.DataFrame(dataMatrix.obs.groupby([classOfInterest])[classOfInterest].count()))\n",
    "    \n",
    "    results_df = pd.DataFrame()\n",
    "    for labelOfInterest in np.unique(dataMatrix.obs[classOfInterest]): \n",
    "        print(labelOfInterest)\n",
    "        dataMatrix_labelOfInterest = dataMatrix.copy()\n",
    "        feature_selected, feature_importance = makeOneForest(dataMatrix_labelOfInterest, \n",
    "                                                             classOfInterest, \n",
    "                          labelOfInterest = labelOfInterest)\n",
    "    \n",
    "        results_df = resultWrite (classOfInterest, results_df, \n",
    "                            labelOfInterest = labelOfInterest, \n",
    "                    feature_selected = feature_selected,  \n",
    "                    feature_importance = feature_importance)\n",
    "        \n",
    "#     finaldf = makeOneForest (dataMatrix, classOfInterest, labelOfInterest = labelOfInterest)[2]\n",
    "\n",
    "    return results_df"
   ]
  },
  {
   "cell_type": "code",
   "execution_count": null,
   "metadata": {},
   "outputs": [
    {
     "name": "stdout",
     "output_type": "stream",
     "text": [
      "Original dataset  (245389, 1044)\n",
      "Filtered dataset  (245389, 1044)\n",
      "       age\n",
      "age       \n",
      "18m  44645\n",
      "1m   25980\n",
      "21m  35828\n",
      "24m  37660\n",
      "30m  55674\n",
      "3m   45602\n",
      "18m\n"
     ]
    },
    {
     "name": "stderr",
     "output_type": "stream",
     "text": [
      "Trying to set attribute `.obs` of view, copying.\n"
     ]
    },
    {
     "name": "stdout",
     "output_type": "stream",
     "text": [
      "downsampled Matrix\n",
      "                            age\n",
      "classification_group age       \n",
      "A                    18m  44645\n",
      "B                    1m    5757\n",
      "                     21m   8031\n",
      "                     24m   8275\n",
      "                     30m  12405\n",
      "                     3m   10177\n",
      "1m\n"
     ]
    },
    {
     "name": "stderr",
     "output_type": "stream",
     "text": [
      "Trying to set attribute `.obs` of view, copying.\n"
     ]
    },
    {
     "name": "stdout",
     "output_type": "stream",
     "text": [
      "downsampled Matrix\n",
      "                            age\n",
      "classification_group age       \n",
      "A                    1m   25980\n",
      "B                    18m   5233\n",
      "                     21m   4160\n",
      "                     24m   4517\n",
      "                     30m   6584\n",
      "                     3m    5486\n",
      "21m\n"
     ]
    },
    {
     "name": "stderr",
     "output_type": "stream",
     "text": [
      "Trying to set attribute `.obs` of view, copying.\n"
     ]
    },
    {
     "name": "stdout",
     "output_type": "stream",
     "text": [
      "downsampled Matrix\n",
      "                            age\n",
      "classification_group age       \n",
      "A                    21m  35828\n",
      "B                    18m   7617\n",
      "                     1m    4427\n",
      "                     24m   6397\n",
      "                     30m   9510\n",
      "                     3m    7877\n",
      "24m\n"
     ]
    },
    {
     "name": "stderr",
     "output_type": "stream",
     "text": [
      "Trying to set attribute `.obs` of view, copying.\n"
     ]
    },
    {
     "name": "stdout",
     "output_type": "stream",
     "text": [
      "downsampled Matrix\n",
      "                            age\n",
      "classification_group age       \n",
      "A                    24m  37660\n",
      "B                    18m   8088\n",
      "                     1m    4858\n",
      "                     21m   6395\n",
      "                     30m   9966\n",
      "                     3m    8353\n",
      "30m\n"
     ]
    },
    {
     "name": "stderr",
     "output_type": "stream",
     "text": [
      "Trying to set attribute `.obs` of view, copying.\n"
     ]
    },
    {
     "name": "stdout",
     "output_type": "stream",
     "text": [
      "downsampled Matrix\n",
      "                            age\n",
      "classification_group age       \n",
      "A                    30m  55674\n",
      "B                    18m  13159\n",
      "                     1m    7713\n",
      "                     21m  10388\n",
      "                     24m  10965\n",
      "                     3m   13449\n",
      "3m\n"
     ]
    },
    {
     "name": "stderr",
     "output_type": "stream",
     "text": [
      "Trying to set attribute `.obs` of view, copying.\n"
     ]
    },
    {
     "name": "stdout",
     "output_type": "stream",
     "text": [
      "downsampled Matrix\n",
      "                            age\n",
      "classification_group age       \n",
      "A                    3m   45602\n",
      "B                    18m  10232\n",
      "                     1m    5890\n",
      "                     21m   8122\n",
      "                     24m   8704\n",
      "                     30m  12654\n"
     ]
    }
   ],
   "source": [
    "senis_facs_tfs_age = scRFE (adata, classOfInterest = 'age', \n",
    "                       nEstimators = 10, randomState = 0,  \n",
    "                  nJobs = -1, oobScore = True, Step = 0.2, Cv = 3)"
   ]
  },
  {
   "cell_type": "code",
   "execution_count": 30,
   "metadata": {},
   "outputs": [
    {
     "data": {
      "text/plain": [
       "View of AnnData object with n_obs × n_vars = 110824 × 1061 \n",
       "    obs: 'FACS.selection', 'age', 'cell', 'cell_ontology_class', 'cell_ontology_id', 'free_annotation', 'method', 'mouse.id', 'sex', 'subtissue', 'tissue', 'n_genes', 'n_counts', 'louvain', 'leiden'\n",
       "    var: 'n_cells', 'means', 'dispersions', 'dispersions_norm', 'highly_variable'\n",
       "    uns: 'leiden', 'louvain', 'louvain_colors', 'neighbors', 'pca', 'tissue_colors'\n",
       "    obsm: 'X_pca', 'X_umap'\n",
       "    varm: 'PCs'"
      ]
     },
     "execution_count": 30,
     "metadata": {},
     "output_type": "execute_result"
    }
   ],
   "source": [
    "adata"
   ]
  },
  {
   "cell_type": "code",
   "execution_count": 31,
   "metadata": {},
   "outputs": [
    {
     "data": {
      "text/html": [
       "<div>\n",
       "<style scoped>\n",
       "    .dataframe tbody tr th:only-of-type {\n",
       "        vertical-align: middle;\n",
       "    }\n",
       "\n",
       "    .dataframe tbody tr th {\n",
       "        vertical-align: top;\n",
       "    }\n",
       "\n",
       "    .dataframe thead th {\n",
       "        text-align: right;\n",
       "    }\n",
       "</style>\n",
       "<table border=\"1\" class=\"dataframe\">\n",
       "  <thead>\n",
       "    <tr style=\"text-align: right;\">\n",
       "      <th></th>\n",
       "      <th>18m</th>\n",
       "      <th>18m_gini</th>\n",
       "      <th>21m</th>\n",
       "      <th>21m_gini</th>\n",
       "      <th>24m</th>\n",
       "      <th>24m_gini</th>\n",
       "      <th>3m</th>\n",
       "      <th>3m_gini</th>\n",
       "    </tr>\n",
       "  </thead>\n",
       "  <tbody>\n",
       "    <tr>\n",
       "      <th>0</th>\n",
       "      <td>Jund</td>\n",
       "      <td>0.038866</td>\n",
       "      <td>Sox9</td>\n",
       "      <td>0.067873</td>\n",
       "      <td>Gpbp1l1</td>\n",
       "      <td>0.019859</td>\n",
       "      <td>Jund</td>\n",
       "      <td>0.065056</td>\n",
       "    </tr>\n",
       "    <tr>\n",
       "      <th>1</th>\n",
       "      <td>Klf13</td>\n",
       "      <td>0.016523</td>\n",
       "      <td>Fosl1</td>\n",
       "      <td>0.064039</td>\n",
       "      <td>Gpbp1</td>\n",
       "      <td>0.014834</td>\n",
       "      <td>Fos</td>\n",
       "      <td>0.020596</td>\n",
       "    </tr>\n",
       "    <tr>\n",
       "      <th>2</th>\n",
       "      <td>Fos</td>\n",
       "      <td>0.014143</td>\n",
       "      <td>Cebpb</td>\n",
       "      <td>0.057457</td>\n",
       "      <td>Nfia</td>\n",
       "      <td>0.013370</td>\n",
       "      <td>Ybx1</td>\n",
       "      <td>0.019932</td>\n",
       "    </tr>\n",
       "    <tr>\n",
       "      <th>3</th>\n",
       "      <td>Ybx1</td>\n",
       "      <td>0.013826</td>\n",
       "      <td>Sox10</td>\n",
       "      <td>0.043444</td>\n",
       "      <td>Ctnnb1</td>\n",
       "      <td>0.013155</td>\n",
       "      <td>Ssbp4</td>\n",
       "      <td>0.014792</td>\n",
       "    </tr>\n",
       "    <tr>\n",
       "      <th>4</th>\n",
       "      <td>Hnrnpab</td>\n",
       "      <td>0.011728</td>\n",
       "      <td>Gata3</td>\n",
       "      <td>0.038431</td>\n",
       "      <td>Hnrnpk</td>\n",
       "      <td>0.013019</td>\n",
       "      <td>Ctnnb1</td>\n",
       "      <td>0.013896</td>\n",
       "    </tr>\n",
       "    <tr>\n",
       "      <th>...</th>\n",
       "      <td>...</td>\n",
       "      <td>...</td>\n",
       "      <td>...</td>\n",
       "      <td>...</td>\n",
       "      <td>...</td>\n",
       "      <td>...</td>\n",
       "      <td>...</td>\n",
       "      <td>...</td>\n",
       "    </tr>\n",
       "    <tr>\n",
       "      <th>208</th>\n",
       "      <td>Nfkb2</td>\n",
       "      <td>0.002751</td>\n",
       "      <td>Hes6</td>\n",
       "      <td>0.000698</td>\n",
       "      <td>Ifi203</td>\n",
       "      <td>0.002577</td>\n",
       "      <td>Atf6</td>\n",
       "      <td>0.002442</td>\n",
       "    </tr>\n",
       "    <tr>\n",
       "      <th>209</th>\n",
       "      <td>Atf5</td>\n",
       "      <td>0.002729</td>\n",
       "      <td>Nr4a2</td>\n",
       "      <td>0.000640</td>\n",
       "      <td>Taf1</td>\n",
       "      <td>0.002532</td>\n",
       "      <td>Clock</td>\n",
       "      <td>0.002438</td>\n",
       "    </tr>\n",
       "    <tr>\n",
       "      <th>210</th>\n",
       "      <td>Esrra</td>\n",
       "      <td>0.002619</td>\n",
       "      <td>Taf4b</td>\n",
       "      <td>0.000552</td>\n",
       "      <td>Jarid2</td>\n",
       "      <td>0.002521</td>\n",
       "      <td>Rbpj</td>\n",
       "      <td>0.002433</td>\n",
       "    </tr>\n",
       "    <tr>\n",
       "      <th>211</th>\n",
       "      <td>Cdx1</td>\n",
       "      <td>0.002613</td>\n",
       "      <td>Lyl1</td>\n",
       "      <td>0.000551</td>\n",
       "      <td>Zfp110</td>\n",
       "      <td>0.002465</td>\n",
       "      <td>Bach2</td>\n",
       "      <td>0.002393</td>\n",
       "    </tr>\n",
       "    <tr>\n",
       "      <th>212</th>\n",
       "      <td>Rarg</td>\n",
       "      <td>0.002609</td>\n",
       "      <td>Klhl6</td>\n",
       "      <td>0.000484</td>\n",
       "      <td>Crem</td>\n",
       "      <td>0.002455</td>\n",
       "      <td>Elk4</td>\n",
       "      <td>0.002371</td>\n",
       "    </tr>\n",
       "  </tbody>\n",
       "</table>\n",
       "<p>213 rows × 8 columns</p>\n",
       "</div>"
      ],
      "text/plain": [
       "         18m  18m_gini    21m  21m_gini      24m  24m_gini      3m   3m_gini\n",
       "0       Jund  0.038866   Sox9  0.067873  Gpbp1l1  0.019859    Jund  0.065056\n",
       "1      Klf13  0.016523  Fosl1  0.064039    Gpbp1  0.014834     Fos  0.020596\n",
       "2        Fos  0.014143  Cebpb  0.057457     Nfia  0.013370    Ybx1  0.019932\n",
       "3       Ybx1  0.013826  Sox10  0.043444   Ctnnb1  0.013155   Ssbp4  0.014792\n",
       "4    Hnrnpab  0.011728  Gata3  0.038431   Hnrnpk  0.013019  Ctnnb1  0.013896\n",
       "..       ...       ...    ...       ...      ...       ...     ...       ...\n",
       "208    Nfkb2  0.002751   Hes6  0.000698   Ifi203  0.002577    Atf6  0.002442\n",
       "209     Atf5  0.002729  Nr4a2  0.000640     Taf1  0.002532   Clock  0.002438\n",
       "210    Esrra  0.002619  Taf4b  0.000552   Jarid2  0.002521    Rbpj  0.002433\n",
       "211     Cdx1  0.002613   Lyl1  0.000551   Zfp110  0.002465   Bach2  0.002393\n",
       "212     Rarg  0.002609  Klhl6  0.000484     Crem  0.002455    Elk4  0.002371\n",
       "\n",
       "[213 rows x 8 columns]"
      ]
     },
     "execution_count": 31,
     "metadata": {},
     "output_type": "execute_result"
    }
   ],
   "source": [
    "senis_facs_tfs_age"
   ]
  },
  {
   "cell_type": "code",
   "execution_count": null,
   "metadata": {},
   "outputs": [],
   "source": [
    "age = '24m'\n",
    "sum(senis_droplet_tfs_age[age].isin(senis_facs_tfs_age[age]))/sum(~senis_droplet_tfs_age[age].isna())*100"
   ]
  },
  {
   "cell_type": "code",
   "execution_count": null,
   "metadata": {},
   "outputs": [],
   "source": [
    "sum(senis_facs_tfs_age['3m'].isin(senis_droplet_tfs_age['3m']))/sum(~senis_facs_tfs_age['3m'].isna())*100"
   ]
  },
  {
   "cell_type": "code",
   "execution_count": null,
   "metadata": {},
   "outputs": [],
   "source": [
    "sum(~senis_facs_tfs_age['3m'].isna()),sum(~senis_droplet_tfs_age['3m'].isna())"
   ]
  },
  {
   "cell_type": "code",
   "execution_count": null,
   "metadata": {},
   "outputs": [],
   "source": [
    "sum(senis_facs_tfs_age['3m'].isin(senis_droplet_tfs_age['3m']))"
   ]
  },
  {
   "cell_type": "code",
   "execution_count": null,
   "metadata": {},
   "outputs": [],
   "source": [
    "senis_droplet_tfs_age.to_csv(\"senis_droplet_tfs_age.csv\")"
   ]
  },
  {
   "cell_type": "code",
   "execution_count": 34,
   "metadata": {},
   "outputs": [],
   "source": [
    "senis_facs_tfs_age.to_csv(\"senis_facs_tfs_age.csv\")"
   ]
  },
  {
   "cell_type": "code",
   "execution_count": null,
   "metadata": {
    "scrolled": false
   },
   "outputs": [],
   "source": [
    "liverAgeSmallnorm = scRFE (dataMatrix = adataLiver, classOfInterest = 'age', \n",
    "                       nEstimators = 10, randomState = 0,  \n",
    "                  nJobs = -1, oobScore = True, Step = 0.2, Cv = 3)"
   ]
  },
  {
   "cell_type": "code",
   "execution_count": null,
   "metadata": {},
   "outputs": [],
   "source": [
    "liverAgeSmall.to_csv(\"scRFE_Liver_droplet_age.csv\")"
   ]
  },
  {
   "cell_type": "code",
   "execution_count": null,
   "metadata": {},
   "outputs": [],
   "source": [
    "liverAgeSmallnonorm"
   ]
  },
  {
   "cell_type": "code",
   "execution_count": null,
   "metadata": {},
   "outputs": [],
   "source": [
    "liverAgeSmallnorm.to_csv(\"scRFE_Liver_facs_age.csv\")"
   ]
  },
  {
   "cell_type": "code",
   "execution_count": null,
   "metadata": {},
   "outputs": [],
   "source": []
  }
 ],
 "metadata": {
  "kernelspec": {
   "display_name": "Python(scRFE1)",
   "language": "python",
   "name": "scrfe1"
  },
  "language_info": {
   "codemirror_mode": {
    "name": "ipython",
    "version": 3
   },
   "file_extension": ".py",
   "mimetype": "text/x-python",
   "name": "python",
   "nbconvert_exporter": "python",
   "pygments_lexer": "ipython3",
   "version": "3.7.6"
  },
  "toc": {
   "base_numbering": 1,
   "nav_menu": {},
   "number_sections": true,
   "sideBar": true,
   "skip_h1_title": false,
   "title_cell": "Table of Contents",
   "title_sidebar": "Contents",
   "toc_cell": false,
   "toc_position": {},
   "toc_section_display": true,
   "toc_window_display": false
  }
 },
 "nbformat": 4,
 "nbformat_minor": 2
}
