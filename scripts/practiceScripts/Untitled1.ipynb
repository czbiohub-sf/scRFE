{
 "cells": [
  {
   "cell_type": "code",
   "execution_count": 2,
   "metadata": {},
   "outputs": [
    {
     "name": "stdout",
     "output_type": "stream",
     "text": [
      "Package          Version    \n",
      "---------------- -----------\n",
      "anndata          0.6.21     \n",
      "appnope          0.1.0      \n",
      "backcall         0.1.0      \n",
      "certifi          2019.6.16  \n",
      "cffi             1.12.3     \n",
      "Click            7.0        \n",
      "cycler           0.10.0     \n",
      "decorator        4.4.0      \n",
      "Flask            1.1.1      \n",
      "Flask-Cors       3.0.8      \n",
      "gekko            0.2.3      \n",
      "h5py             2.9.0      \n",
      "ipykernel        5.1.1      \n",
      "ipython          7.5.0      \n",
      "ipython-genutils 0.2.0      \n",
      "itsdangerous     1.1.0      \n",
      "jedi             0.13.3     \n",
      "Jinja2           2.10.1     \n",
      "joblib           0.13.2     \n",
      "jupyter-client   5.2.4      \n",
      "jupyter-core     4.4.0      \n",
      "kiwisolver       1.1.0      \n",
      "llvmlite         0.28.0     \n",
      "louvain          0.6.1      \n",
      "MarkupSafe       1.1.1      \n",
      "matplotlib       3.2.1      \n",
      "matplotlib-venn  0.11.5     \n",
      "mock             3.0.5      \n",
      "natsort          6.0.0      \n",
      "networkx         2.3        \n",
      "numba            0.43.1     \n",
      "numexpr          2.6.9      \n",
      "numpy            1.16.4     \n",
      "pandas           0.24.2     \n",
      "parso            0.4.0      \n",
      "patsy            0.5.1      \n",
      "pexpect          4.7.0      \n",
      "pickleshare      0.7.5      \n",
      "pip              19.1.1     \n",
      "prompt-toolkit   2.0.9      \n",
      "ptyprocess       0.6.0      \n",
      "pycairo          1.18.1     \n",
      "pycparser        2.19       \n",
      "Pygments         2.4.2      \n",
      "pyparsing        2.4.0      \n",
      "python-dateutil  2.8.0      \n",
      "python-igraph    0.7.1.post7\n",
      "pytz             2019.1     \n",
      "pyzmq            18.0.0     \n",
      "scanpy           1.4.3      \n",
      "scikit-learn     0.21.2     \n",
      "scipy            1.2.1      \n",
      "scRFE            0.7        \n",
      "seaborn          0.9.0      \n",
      "setuptools       41.0.1     \n",
      "six              1.12.0     \n",
      "statsmodels      0.9.0      \n",
      "tables           3.5.2      \n",
      "torch            1.1.0      \n",
      "tornado          6.0.2      \n",
      "tqdm             4.7.2      \n",
      "traitlets        4.3.2      \n",
      "umap-learn       0.3.9      \n",
      "wcwidth          0.1.7      \n",
      "Werkzeug         0.16.0     \n",
      "wheel            0.33.4     \n",
      "Note: you may need to restart the kernel to use updated packages.\n"
     ]
    }
   ],
   "source": [
    "pip list"
   ]
  },
  {
   "cell_type": "code",
   "execution_count": null,
   "metadata": {},
   "outputs": [],
   "source": []
  }
 ],
 "metadata": {
  "kernelspec": {
   "display_name": "Python 3",
   "language": "python",
   "name": "python3"
  },
  "language_info": {
   "codemirror_mode": {
    "name": "ipython",
    "version": 3
   },
   "file_extension": ".py",
   "mimetype": "text/x-python",
   "name": "python",
   "nbconvert_exporter": "python",
   "pygments_lexer": "ipython3",
   "version": "3.6.8"
  }
 },
 "nbformat": 4,
 "nbformat_minor": 2
}
