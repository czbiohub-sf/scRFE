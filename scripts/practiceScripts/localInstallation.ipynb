{
 "cells": [
  {
   "cell_type": "code",
   "execution_count": 6,
   "metadata": {
    "scrolled": true
   },
   "outputs": [
    {
     "name": "stdout",
     "output_type": "stream",
     "text": [
      "Looking in indexes: https://test.pypi.org/simple/\n",
      "Requirement already satisfied: scRFE in /Users/madelinepark/anaconda3/envs/scanpytest/lib/python3.6/site-packages (0.7)\n",
      "Requirement already satisfied: anndata>=0.6.21 in /Users/madelinepark/anaconda3/envs/scanpytest/lib/python3.6/site-packages (from scRFE) (0.6.21)\n",
      "Requirement already satisfied: scikit-learn>=0.20.3 in /Users/madelinepark/anaconda3/envs/scanpytest/lib/python3.6/site-packages (from scRFE) (0.21.2)\n",
      "Requirement already satisfied: scanpy>=1.4.3 in /Users/madelinepark/anaconda3/envs/scanpytest/lib/python3.6/site-packages (from scRFE) (1.4.3)\n",
      "Requirement already satisfied: pandas>=0.24.2 in /Users/madelinepark/anaconda3/envs/scanpytest/lib/python3.6/site-packages (from scRFE) (0.24.2)\n",
      "Requirement already satisfied: matplotlib>=3.1.1 in /Users/madelinepark/anaconda3/envs/scanpytest/lib/python3.6/site-packages (from scRFE) (3.2.1)\n",
      "Requirement already satisfied: numpy>=1.16.4 in /Users/madelinepark/anaconda3/envs/scanpytest/lib/python3.6/site-packages (from scRFE) (1.16.4)\n",
      "Requirement already satisfied: h5py in /Users/madelinepark/anaconda3/envs/scanpytest/lib/python3.6/site-packages (from anndata>=0.6.21->scRFE) (2.9.0)\n",
      "Requirement already satisfied: scipy~=1.0 in /Users/madelinepark/anaconda3/envs/scanpytest/lib/python3.6/site-packages (from anndata>=0.6.21->scRFE) (1.2.1)\n",
      "Requirement already satisfied: natsort in /Users/madelinepark/anaconda3/envs/scanpytest/lib/python3.6/site-packages (from anndata>=0.6.21->scRFE) (6.0.0)\n",
      "Requirement already satisfied: joblib>=0.11 in /Users/madelinepark/anaconda3/envs/scanpytest/lib/python3.6/site-packages (from scikit-learn>=0.20.3->scRFE) (0.13.2)\n",
      "Requirement already satisfied: umap-learn>=0.3.0 in /Users/madelinepark/anaconda3/envs/scanpytest/lib/python3.6/site-packages (from scanpy>=1.4.3->scRFE) (0.3.9)\n",
      "Requirement already satisfied: statsmodels in /Users/madelinepark/anaconda3/envs/scanpytest/lib/python3.6/site-packages (from scanpy>=1.4.3->scRFE) (0.9.0)\n",
      "Requirement already satisfied: seaborn in /Users/madelinepark/anaconda3/envs/scanpytest/lib/python3.6/site-packages (from scanpy>=1.4.3->scRFE) (0.9.0)\n",
      "Requirement already satisfied: tables in /Users/madelinepark/anaconda3/envs/scanpytest/lib/python3.6/site-packages (from scanpy>=1.4.3->scRFE) (3.5.2)\n",
      "Requirement already satisfied: numba>=0.41.0 in /Users/madelinepark/anaconda3/envs/scanpytest/lib/python3.6/site-packages (from scanpy>=1.4.3->scRFE) (0.43.1)\n",
      "Requirement already satisfied: networkx in /Users/madelinepark/anaconda3/envs/scanpytest/lib/python3.6/site-packages (from scanpy>=1.4.3->scRFE) (2.3)\n",
      "Requirement already satisfied: tqdm in /Users/madelinepark/anaconda3/envs/scanpytest/lib/python3.6/site-packages/tqdm-4.7.2-py3.6.egg (from scanpy>=1.4.3->scRFE) (4.7.2)\n",
      "Requirement already satisfied: patsy in /Users/madelinepark/anaconda3/envs/scanpytest/lib/python3.6/site-packages (from scanpy>=1.4.3->scRFE) (0.5.1)\n",
      "Requirement already satisfied: python-dateutil>=2.5.0 in /Users/madelinepark/anaconda3/envs/scanpytest/lib/python3.6/site-packages (from pandas>=0.24.2->scRFE) (2.8.0)\n",
      "Requirement already satisfied: pytz>=2011k in /Users/madelinepark/anaconda3/envs/scanpytest/lib/python3.6/site-packages (from pandas>=0.24.2->scRFE) (2019.1)\n",
      "Requirement already satisfied: kiwisolver>=1.0.1 in /Users/madelinepark/anaconda3/envs/scanpytest/lib/python3.6/site-packages (from matplotlib>=3.1.1->scRFE) (1.1.0)\n",
      "Requirement already satisfied: pyparsing!=2.0.4,!=2.1.2,!=2.1.6,>=2.0.1 in /Users/madelinepark/anaconda3/envs/scanpytest/lib/python3.6/site-packages (from matplotlib>=3.1.1->scRFE) (2.4.0)\n",
      "Requirement already satisfied: cycler>=0.10 in /Users/madelinepark/anaconda3/envs/scanpytest/lib/python3.6/site-packages (from matplotlib>=3.1.1->scRFE) (0.10.0)\n",
      "Requirement already satisfied: six in /Users/madelinepark/anaconda3/envs/scanpytest/lib/python3.6/site-packages (from h5py->anndata>=0.6.21->scRFE) (1.12.0)\n",
      "Requirement already satisfied: mock>=2.0 in /Users/madelinepark/anaconda3/envs/scanpytest/lib/python3.6/site-packages (from tables->scanpy>=1.4.3->scRFE) (3.0.5)\n",
      "Requirement already satisfied: numexpr>=2.6.2 in /Users/madelinepark/anaconda3/envs/scanpytest/lib/python3.6/site-packages (from tables->scanpy>=1.4.3->scRFE) (2.6.9)\n",
      "Requirement already satisfied: llvmlite>=0.28.0dev0 in /Users/madelinepark/anaconda3/envs/scanpytest/lib/python3.6/site-packages (from numba>=0.41.0->scanpy>=1.4.3->scRFE) (0.28.0)\n",
      "Requirement already satisfied: decorator>=4.3.0 in /Users/madelinepark/anaconda3/envs/scanpytest/lib/python3.6/site-packages (from networkx->scanpy>=1.4.3->scRFE) (4.4.0)\n",
      "Requirement already satisfied: setuptools in /Users/madelinepark/anaconda3/envs/scanpytest/lib/python3.6/site-packages (from kiwisolver>=1.0.1->matplotlib>=3.1.1->scRFE) (41.0.1)\n",
      "Note: you may need to restart the kernel to use updated packages.\n"
     ]
    }
   ],
   "source": [
    "pip install -i https://test.pypi.org/simple/ scRFE"
   ]
  },
  {
   "cell_type": "code",
   "execution_count": 1,
   "metadata": {},
   "outputs": [],
   "source": [
    "import numpy as np\n",
    "import pandas as pd\n",
    "import scanpy as sc\n",
    "import random\n",
    "from anndata import read_h5ad\n",
    "from sklearn.ensemble import RandomForestClassifier\n",
    "from sklearn.model_selection import train_test_split\n",
    "from sklearn.feature_selection import SelectFromModel\n",
    "from sklearn.metrics import accuracy_score\n",
    "from sklearn.feature_selection import RFE\n",
    "from sklearn.feature_selection import RFECV\n",
    "import seaborn as sns\n",
    "import matplotlib.pyplot as plt"
   ]
  },
  {
   "cell_type": "code",
   "execution_count": 2,
   "metadata": {},
   "outputs": [],
   "source": [
    "# from scRFE import scRFE\n",
    "# import scRFE\n",
    "from scRFE.scRFE import scRFE   # means Class YourClass.YourClass import YourClass"
   ]
  },
  {
   "cell_type": "code",
   "execution_count": 3,
   "metadata": {},
   "outputs": [],
   "source": [
    "from anndata import read_h5ad\n"
   ]
  },
  {
   "cell_type": "code",
   "execution_count": 4,
   "metadata": {},
   "outputs": [],
   "source": [
    "adata = read_h5ad('/Users/madelinepark/Downloads/Kidney_facs.h5ad')"
   ]
  },
  {
   "cell_type": "code",
   "execution_count": 5,
   "metadata": {},
   "outputs": [
    {
     "name": "stdout",
     "output_type": "stream",
     "text": [
      "scanpy==1.4.3 anndata==0.6.21 umap==0.3.9 numpy==1.16.4 scipy==1.2.1 pandas==0.24.2 scikit-learn==0.21.2 statsmodels==0.9.0 python-igraph==0.7.1 louvain==0.6.1 \n",
      "scanpy==1.4.3 anndata==0.6.21 umap==0.3.9 numpy==1.16.4 scipy==1.2.1 pandas==0.24.2 scikit-learn==0.21.2 statsmodels==0.9.0 python-igraph==0.7.1 louvain==0.6.1 \n",
      "filtered out 7032 genes that are detected in less than 3 cells\n"
     ]
    },
    {
     "name": "stderr",
     "output_type": "stream",
     "text": [
      "Trying to set attribute `.obs` of view, making a copy.\n",
      "Trying to set attribute `.obs` of view, making a copy.\n"
     ]
    },
    {
     "name": "stdout",
     "output_type": "stream",
     "text": [
      "scRFEB cell\n",
      "scanpy==1.4.3 anndata==0.6.21 umap==0.3.9 numpy==1.16.4 scipy==1.2.1 pandas==0.24.2 scikit-learn==0.21.2 statsmodels==0.9.0 python-igraph==0.7.1 louvain==0.6.1 \n",
      "scanpy==1.4.3 anndata==0.6.21 umap==0.3.9 numpy==1.16.4 scipy==1.2.1 pandas==0.24.2 scikit-learn==0.21.2 statsmodels==0.9.0 python-igraph==0.7.1 louvain==0.6.1 \n",
      "filtered out 100 genes that are detected in less than 3 cells\n"
     ]
    },
    {
     "name": "stderr",
     "output_type": "stream",
     "text": [
      "Trying to set attribute `.obs` of view, making a copy.\n",
      "Trying to set attribute `.obs` of view, making a copy.\n"
     ]
    },
    {
     "name": "stdout",
     "output_type": "stream",
     "text": [
      "makeOneForestB cell\n",
      "scanpy==1.4.3 anndata==0.6.21 umap==0.3.9 numpy==1.16.4 scipy==1.2.1 pandas==0.24.2 scikit-learn==0.21.2 statsmodels==0.9.0 python-igraph==0.7.1 louvain==0.6.1 \n",
      "scanpy==1.4.3 anndata==0.6.21 umap==0.3.9 numpy==1.16.4 scipy==1.2.1 pandas==0.24.2 scikit-learn==0.21.2 statsmodels==0.9.0 python-igraph==0.7.1 louvain==0.6.1 \n"
     ]
    },
    {
     "name": "stderr",
     "output_type": "stream",
     "text": [
      "Trying to set attribute `.obs` of view, making a copy.\n"
     ]
    },
    {
     "name": "stdout",
     "output_type": "stream",
     "text": [
      "Y\n",
      "1215\n",
      "training...\n"
     ]
    },
    {
     "ename": "KeyboardInterrupt",
     "evalue": "",
     "output_type": "error",
     "traceback": [
      "\u001b[0;31m---------------------------------------------------------------------------\u001b[0m",
      "\u001b[0;31mKeyboardInterrupt\u001b[0m                         Traceback (most recent call last)",
      "\u001b[0;32m<ipython-input-5-55d46d4a770a>\u001b[0m in \u001b[0;36m<module>\u001b[0;34m\u001b[0m\n\u001b[0;32m----> 1\u001b[0;31m \u001b[0mscRFE\u001b[0m \u001b[0;34m(\u001b[0m\u001b[0mdataMatrix\u001b[0m \u001b[0;34m=\u001b[0m \u001b[0madata\u001b[0m\u001b[0;34m,\u001b[0m \u001b[0mclassOfInterest\u001b[0m \u001b[0;34m=\u001b[0m \u001b[0;34m'cell_ontology_class'\u001b[0m\u001b[0;34m)\u001b[0m\u001b[0;34m\u001b[0m\u001b[0;34m\u001b[0m\u001b[0m\n\u001b[0m",
      "\u001b[0;32m~/anaconda3/envs/scanpytest/lib/python3.6/site-packages/scRFE/scRFE.py\u001b[0m in \u001b[0;36mscRFE\u001b[0;34m(dataMatrix, classOfInterest, nEstimators, randomState, nJobs, oobScore, Step, Cv)\u001b[0m\n\u001b[1;32m    222\u001b[0m         feature_selected, feature_importance = makeOneForest(dataMatrix, \n\u001b[1;32m    223\u001b[0m                                                              \u001b[0mclassOfInterest\u001b[0m\u001b[0;34m,\u001b[0m\u001b[0;34m\u001b[0m\u001b[0;34m\u001b[0m\u001b[0m\n\u001b[0;32m--> 224\u001b[0;31m                           labelOfInterest = labelOfInterest)\n\u001b[0m\u001b[1;32m    225\u001b[0m \u001b[0;34m\u001b[0m\u001b[0m\n\u001b[1;32m    226\u001b[0m         results_df = resultWrite (classOfInterest, results_df, \n",
      "\u001b[0;32m~/anaconda3/envs/scanpytest/lib/python3.6/site-packages/scRFE/scRFE.py\u001b[0m in \u001b[0;36mmakeOneForest\u001b[0;34m(dataMatrix, classOfInterest, labelOfInterest, nEstimators, randomState, nJobs, oobScore, Step, Cv)\u001b[0m\n\u001b[1;32m    148\u001b[0m \u001b[0;34m\u001b[0m\u001b[0m\n\u001b[1;32m    149\u001b[0m     \u001b[0mprint\u001b[0m\u001b[0;34m(\u001b[0m\u001b[0;34m'training...'\u001b[0m\u001b[0;34m)\u001b[0m\u001b[0;34m\u001b[0m\u001b[0;34m\u001b[0m\u001b[0m\n\u001b[0;32m--> 150\u001b[0;31m     \u001b[0mclf\u001b[0m\u001b[0;34m.\u001b[0m\u001b[0mfit\u001b[0m\u001b[0;34m(\u001b[0m\u001b[0mX\u001b[0m\u001b[0;34m,\u001b[0m \u001b[0my\u001b[0m\u001b[0;34m)\u001b[0m\u001b[0;34m\u001b[0m\u001b[0;34m\u001b[0m\u001b[0m\n\u001b[0m\u001b[1;32m    151\u001b[0m     \u001b[0mselector\u001b[0m\u001b[0;34m.\u001b[0m\u001b[0mfit\u001b[0m\u001b[0;34m(\u001b[0m\u001b[0mX\u001b[0m\u001b[0;34m,\u001b[0m \u001b[0my\u001b[0m\u001b[0;34m)\u001b[0m\u001b[0;34m\u001b[0m\u001b[0;34m\u001b[0m\u001b[0m\n\u001b[1;32m    152\u001b[0m     \u001b[0mfeature_selected\u001b[0m \u001b[0;34m=\u001b[0m \u001b[0mfeat_labels\u001b[0m\u001b[0;34m[\u001b[0m\u001b[0mselector\u001b[0m\u001b[0;34m.\u001b[0m\u001b[0msupport_\u001b[0m\u001b[0;34m]\u001b[0m\u001b[0;34m\u001b[0m\u001b[0;34m\u001b[0m\u001b[0m\n",
      "\u001b[0;32m~/anaconda3/envs/scanpytest/lib/python3.6/site-packages/sklearn/ensemble/forest.py\u001b[0m in \u001b[0;36mfit\u001b[0;34m(self, X, y, sample_weight)\u001b[0m\n\u001b[1;32m    315\u001b[0m             trees = [self._make_estimator(append=False,\n\u001b[1;32m    316\u001b[0m                                           random_state=random_state)\n\u001b[0;32m--> 317\u001b[0;31m                      for i in range(n_more_estimators)]\n\u001b[0m\u001b[1;32m    318\u001b[0m \u001b[0;34m\u001b[0m\u001b[0m\n\u001b[1;32m    319\u001b[0m             \u001b[0;31m# Parallel loop: we prefer the threading backend as the Cython code\u001b[0m\u001b[0;34m\u001b[0m\u001b[0;34m\u001b[0m\u001b[0;34m\u001b[0m\u001b[0m\n",
      "\u001b[0;32m~/anaconda3/envs/scanpytest/lib/python3.6/site-packages/sklearn/ensemble/forest.py\u001b[0m in \u001b[0;36m<listcomp>\u001b[0;34m(.0)\u001b[0m\n\u001b[1;32m    315\u001b[0m             trees = [self._make_estimator(append=False,\n\u001b[1;32m    316\u001b[0m                                           random_state=random_state)\n\u001b[0;32m--> 317\u001b[0;31m                      for i in range(n_more_estimators)]\n\u001b[0m\u001b[1;32m    318\u001b[0m \u001b[0;34m\u001b[0m\u001b[0m\n\u001b[1;32m    319\u001b[0m             \u001b[0;31m# Parallel loop: we prefer the threading backend as the Cython code\u001b[0m\u001b[0;34m\u001b[0m\u001b[0;34m\u001b[0m\u001b[0;34m\u001b[0m\u001b[0m\n",
      "\u001b[0;32m~/anaconda3/envs/scanpytest/lib/python3.6/site-packages/sklearn/ensemble/base.py\u001b[0m in \u001b[0;36m_make_estimator\u001b[0;34m(self, append, random_state)\u001b[0m\n\u001b[1;32m    124\u001b[0m         \u001b[0msub\u001b[0m\u001b[0;34m-\u001b[0m\u001b[0mestimators\u001b[0m\u001b[0;34m.\u001b[0m\u001b[0;34m\u001b[0m\u001b[0;34m\u001b[0m\u001b[0m\n\u001b[1;32m    125\u001b[0m         \"\"\"\n\u001b[0;32m--> 126\u001b[0;31m         \u001b[0mestimator\u001b[0m \u001b[0;34m=\u001b[0m \u001b[0mclone\u001b[0m\u001b[0;34m(\u001b[0m\u001b[0mself\u001b[0m\u001b[0;34m.\u001b[0m\u001b[0mbase_estimator_\u001b[0m\u001b[0;34m)\u001b[0m\u001b[0;34m\u001b[0m\u001b[0;34m\u001b[0m\u001b[0m\n\u001b[0m\u001b[1;32m    127\u001b[0m         estimator.set_params(**{p: getattr(self, p)\n\u001b[1;32m    128\u001b[0m                                 for p in self.estimator_params})\n",
      "\u001b[0;32m~/anaconda3/envs/scanpytest/lib/python3.6/site-packages/sklearn/base.py\u001b[0m in \u001b[0;36mclone\u001b[0;34m(estimator, safe)\u001b[0m\n\u001b[1;32m     49\u001b[0m     \u001b[0mestimator_type\u001b[0m \u001b[0;34m=\u001b[0m \u001b[0mtype\u001b[0m\u001b[0;34m(\u001b[0m\u001b[0mestimator\u001b[0m\u001b[0;34m)\u001b[0m\u001b[0;34m\u001b[0m\u001b[0;34m\u001b[0m\u001b[0m\n\u001b[1;32m     50\u001b[0m     \u001b[0;31m# XXX: not handling dictionaries\u001b[0m\u001b[0;34m\u001b[0m\u001b[0;34m\u001b[0m\u001b[0;34m\u001b[0m\u001b[0m\n\u001b[0;32m---> 51\u001b[0;31m     \u001b[0;32mif\u001b[0m \u001b[0mestimator_type\u001b[0m \u001b[0;32min\u001b[0m \u001b[0;34m(\u001b[0m\u001b[0mlist\u001b[0m\u001b[0;34m,\u001b[0m \u001b[0mtuple\u001b[0m\u001b[0;34m,\u001b[0m \u001b[0mset\u001b[0m\u001b[0;34m,\u001b[0m \u001b[0mfrozenset\u001b[0m\u001b[0;34m)\u001b[0m\u001b[0;34m:\u001b[0m\u001b[0;34m\u001b[0m\u001b[0;34m\u001b[0m\u001b[0m\n\u001b[0m\u001b[1;32m     52\u001b[0m         \u001b[0;32mreturn\u001b[0m \u001b[0mestimator_type\u001b[0m\u001b[0;34m(\u001b[0m\u001b[0;34m[\u001b[0m\u001b[0mclone\u001b[0m\u001b[0;34m(\u001b[0m\u001b[0me\u001b[0m\u001b[0;34m,\u001b[0m \u001b[0msafe\u001b[0m\u001b[0;34m=\u001b[0m\u001b[0msafe\u001b[0m\u001b[0;34m)\u001b[0m \u001b[0;32mfor\u001b[0m \u001b[0me\u001b[0m \u001b[0;32min\u001b[0m \u001b[0mestimator\u001b[0m\u001b[0;34m]\u001b[0m\u001b[0;34m)\u001b[0m\u001b[0;34m\u001b[0m\u001b[0;34m\u001b[0m\u001b[0m\n\u001b[1;32m     53\u001b[0m     \u001b[0;32melif\u001b[0m \u001b[0;32mnot\u001b[0m \u001b[0mhasattr\u001b[0m\u001b[0;34m(\u001b[0m\u001b[0mestimator\u001b[0m\u001b[0;34m,\u001b[0m \u001b[0;34m'get_params'\u001b[0m\u001b[0;34m)\u001b[0m \u001b[0;32mor\u001b[0m \u001b[0misinstance\u001b[0m\u001b[0;34m(\u001b[0m\u001b[0mestimator\u001b[0m\u001b[0;34m,\u001b[0m \u001b[0mtype\u001b[0m\u001b[0;34m)\u001b[0m\u001b[0;34m:\u001b[0m\u001b[0;34m\u001b[0m\u001b[0;34m\u001b[0m\u001b[0m\n",
      "\u001b[0;31mKeyboardInterrupt\u001b[0m: "
     ]
    }
   ],
   "source": [
    "scRFE (dataMatrix = adata, classOfInterest = 'cell_ontology_class')"
   ]
  },
  {
   "cell_type": "code",
   "execution_count": null,
   "metadata": {},
   "outputs": [],
   "source": []
  }
 ],
 "metadata": {
  "kernelspec": {
   "display_name": "Python 3",
   "language": "python",
   "name": "python3"
  },
  "language_info": {
   "codemirror_mode": {
    "name": "ipython",
    "version": 3
   },
   "file_extension": ".py",
   "mimetype": "text/x-python",
   "name": "python",
   "nbconvert_exporter": "python",
   "pygments_lexer": "ipython3",
   "version": "3.6.8"
  }
 },
 "nbformat": 4,
 "nbformat_minor": 2
}
