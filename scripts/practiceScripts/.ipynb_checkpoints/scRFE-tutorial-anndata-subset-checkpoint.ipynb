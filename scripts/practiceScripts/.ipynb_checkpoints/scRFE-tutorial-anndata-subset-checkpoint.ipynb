{
 "cells": [
  {
   "cell_type": "markdown",
   "metadata": {},
   "source": [
    "# scRFE Tutorial ANNDATA SUBSET\n"
   ]
  },
  {
   "cell_type": "markdown",
   "metadata": {},
   "source": [
    "### Imports "
   ]
  },
  {
   "cell_type": "code",
   "execution_count": 1,
   "metadata": {},
   "outputs": [],
   "source": [
    "# Imports \n",
    "import numpy as np\n",
    "import pandas as pd\n",
    "import scanpy as sc\n",
    "from anndata import read_h5ad\n",
    "from sklearn.ensemble import RandomForestClassifier\n",
    "from sklearn.model_selection import train_test_split\n",
    "from sklearn.feature_selection import SelectFromModel\n",
    "from sklearn.metrics import accuracy_score\n",
    "from sklearn.feature_selection import RFE\n",
    "from sklearn.feature_selection import RFECV"
   ]
  },
  {
   "cell_type": "code",
   "execution_count": null,
   "metadata": {},
   "outputs": [],
   "source": [
    "general procedure\n",
    "subset anndata for the label of interest and rest\n",
    "get the shape e.g. anndataSubset.shape # (rows = cells, cols = genes)\n",
    "if dimension of X for the # rows (e.g. anndataSubset.shape[0] < 100), use them all, else get first 100 (adata.X[0:100:,:]) -- look up how to subset matrix\n",
    "then make your labels accordingly too."
   ]
  },
  {
   "cell_type": "markdown",
   "metadata": {},
   "source": [
    "### Read in anndata file "
   ]
  },
  {
   "cell_type": "code",
   "execution_count": 2,
   "metadata": {},
   "outputs": [],
   "source": [
    "# read in data \n",
    "adata = read_h5ad('/Users/madelinepark/Downloads/Kidney_facs.h5ad')\n",
    "tiss = adata"
   ]
  },
  {
   "cell_type": "code",
   "execution_count": 18,
   "metadata": {},
   "outputs": [],
   "source": [
    "# tiss.obs['age_type_of_interest']"
   ]
  },
  {
   "cell_type": "code",
   "execution_count": null,
   "metadata": {},
   "outputs": [
    {
     "name": "stdout",
     "output_type": "stream",
     "text": [
      "(10, 10)\n",
      "10\n"
     ]
    }
   ],
   "source": [
    "tiss.obs['feature_type_of_interest'] = 'rest'\n",
    "feature = 'age'\n",
    "for c in list(set(tiss.obs[feature])): \n",
    "    feature_of_interest = c\n",
    "    tiss.obs.loc[tiss.obs[feature] == feature_of_interest,'feature_type_of_interest'] = feature_of_interest\n",
    "    feat_labels = tiss.var_names \n",
    "    X = tiss.X[:10,:10] #seeing if we can take first 10 rows but idk if it does this for both\n",
    "    y = tiss.obs['feature_type_of_interest'][0:10]\n",
    "#     X = tiss.X\n",
    "#     y = tiss.obs['feature_type_of_interest']\n",
    "    X_train, X_test, y_train, y_test = train_test_split(X, y, test_size=0.05, random_state=0)\n",
    "    print(X.shape)\n",
    "    print(len(y))\n",
    "    clf.fit(X_train, y_train)\n",
    "    selector.fit(X_train, y_train)\n",
    "    feature_selected = feat_labels[selector.support_] \n",
    "    \n",
    "    print('result writing')\n",
    "    column_headings = []\n",
    "    column_headings.append(c)\n",
    "    column_headings.append(c + '_gini')\n",
    "    \n",
    "    resaux = pd.DataFrame(columns=column_headings)\n",
    "    resaux[c] = feature_selected\n",
    "    resaux[c + '_gini'] = (selector.estimator_.feature_importances_)\n",
    "    \n",
    "    print(feature_selected)\n",
    "    print (selector.estimator_.feature_importances_)\n",
    "    \n",
    "    results_age_cv = pd.concat([results_age_cv,resaux],axis=1)\n",
    "    \n",
    "    tiss.obs['age_type_of_interest'] = 'rest'\n",
    "    \n",
    "results_age_cv"
   ]
  },
  {
   "cell_type": "code",
   "execution_count": 34,
   "metadata": {},
   "outputs": [
    {
     "name": "stdout",
     "output_type": "stream",
     "text": [
      "/Users/madelinepark/src3/scRFE/scRFE-results\n"
     ]
    }
   ],
   "source": [
    "cd /Users/madelinepark/src3/scRFE/scRFE-results"
   ]
  },
  {
   "cell_type": "markdown",
   "metadata": {},
   "source": [
    "### Run scRFE one vs all classification for age"
   ]
  },
  {
   "cell_type": "code",
   "execution_count": 36,
   "metadata": {},
   "outputs": [
    {
     "name": "stdout",
     "output_type": "stream",
     "text": [
      "24m\n",
      "training...\n"
     ]
    },
    {
     "ename": "ValueError",
     "evalue": "At least one array required as input",
     "output_type": "error",
     "traceback": [
      "\u001b[0;31m---------------------------------------------------------------------------\u001b[0m",
      "\u001b[0;31mValueError\u001b[0m                                Traceback (most recent call last)",
      "\u001b[0;32m<ipython-input-36-ae5a98b5e3d6>\u001b[0m in \u001b[0;36m<module>\u001b[0;34m\u001b[0m\n\u001b[1;32m     15\u001b[0m \u001b[0;34m\u001b[0m\u001b[0m\n\u001b[1;32m     16\u001b[0m     \u001b[0mprint\u001b[0m\u001b[0;34m(\u001b[0m\u001b[0;34m'training...'\u001b[0m\u001b[0;34m)\u001b[0m\u001b[0;34m\u001b[0m\u001b[0;34m\u001b[0m\u001b[0m\n\u001b[0;32m---> 17\u001b[0;31m     \u001b[0mX_train\u001b[0m\u001b[0;34m,\u001b[0m \u001b[0mX_test\u001b[0m\u001b[0;34m,\u001b[0m \u001b[0my_train\u001b[0m\u001b[0;34m,\u001b[0m \u001b[0my_test\u001b[0m \u001b[0;34m=\u001b[0m \u001b[0mtrain_test_split\u001b[0m\u001b[0;34m(\u001b[0m\u001b[0mX\u001b[0m\u001b[0;34m=\u001b[0m\u001b[0mnewX\u001b[0m\u001b[0;34m,\u001b[0m \u001b[0my\u001b[0m\u001b[0;34m=\u001b[0m\u001b[0mnewy\u001b[0m\u001b[0;34m,\u001b[0m \u001b[0mtest_size\u001b[0m\u001b[0;34m=\u001b[0m\u001b[0;36m0.05\u001b[0m\u001b[0;34m,\u001b[0m \u001b[0mrandom_state\u001b[0m\u001b[0;34m=\u001b[0m\u001b[0;36m0\u001b[0m\u001b[0;34m)\u001b[0m\u001b[0;34m\u001b[0m\u001b[0;34m\u001b[0m\u001b[0m\n\u001b[0m\u001b[1;32m     18\u001b[0m     \u001b[0mclf\u001b[0m\u001b[0;34m.\u001b[0m\u001b[0mfit\u001b[0m\u001b[0;34m(\u001b[0m\u001b[0mX_train\u001b[0m\u001b[0;34m,\u001b[0m \u001b[0my_train\u001b[0m\u001b[0;34m)\u001b[0m\u001b[0;34m\u001b[0m\u001b[0;34m\u001b[0m\u001b[0m\n\u001b[1;32m     19\u001b[0m     \u001b[0mselector\u001b[0m\u001b[0;34m.\u001b[0m\u001b[0mfit\u001b[0m\u001b[0;34m(\u001b[0m\u001b[0mX_train\u001b[0m\u001b[0;34m,\u001b[0m \u001b[0my_train\u001b[0m\u001b[0;34m)\u001b[0m\u001b[0;34m\u001b[0m\u001b[0;34m\u001b[0m\u001b[0m\n",
      "\u001b[0;32m~/anaconda3/envs/scanpytest/lib/python3.6/site-packages/sklearn/model_selection/_split.py\u001b[0m in \u001b[0;36mtrain_test_split\u001b[0;34m(*arrays, **options)\u001b[0m\n\u001b[1;32m   2084\u001b[0m     \u001b[0mn_arrays\u001b[0m \u001b[0;34m=\u001b[0m \u001b[0mlen\u001b[0m\u001b[0;34m(\u001b[0m\u001b[0marrays\u001b[0m\u001b[0;34m)\u001b[0m\u001b[0;34m\u001b[0m\u001b[0;34m\u001b[0m\u001b[0m\n\u001b[1;32m   2085\u001b[0m     \u001b[0;32mif\u001b[0m \u001b[0mn_arrays\u001b[0m \u001b[0;34m==\u001b[0m \u001b[0;36m0\u001b[0m\u001b[0;34m:\u001b[0m\u001b[0;34m\u001b[0m\u001b[0;34m\u001b[0m\u001b[0m\n\u001b[0;32m-> 2086\u001b[0;31m         \u001b[0;32mraise\u001b[0m \u001b[0mValueError\u001b[0m\u001b[0;34m(\u001b[0m\u001b[0;34m\"At least one array required as input\"\u001b[0m\u001b[0;34m)\u001b[0m\u001b[0;34m\u001b[0m\u001b[0;34m\u001b[0m\u001b[0m\n\u001b[0m\u001b[1;32m   2087\u001b[0m     \u001b[0mtest_size\u001b[0m \u001b[0;34m=\u001b[0m \u001b[0moptions\u001b[0m\u001b[0;34m.\u001b[0m\u001b[0mpop\u001b[0m\u001b[0;34m(\u001b[0m\u001b[0;34m'test_size'\u001b[0m\u001b[0;34m,\u001b[0m \u001b[0;32mNone\u001b[0m\u001b[0;34m)\u001b[0m\u001b[0;34m\u001b[0m\u001b[0;34m\u001b[0m\u001b[0m\n\u001b[1;32m   2088\u001b[0m     \u001b[0mtrain_size\u001b[0m \u001b[0;34m=\u001b[0m \u001b[0moptions\u001b[0m\u001b[0;34m.\u001b[0m\u001b[0mpop\u001b[0m\u001b[0;34m(\u001b[0m\u001b[0;34m'train_size'\u001b[0m\u001b[0;34m,\u001b[0m \u001b[0;32mNone\u001b[0m\u001b[0;34m)\u001b[0m\u001b[0;34m\u001b[0m\u001b[0;34m\u001b[0m\u001b[0m\n",
      "\u001b[0;31mValueError\u001b[0m: At least one array required as input"
     ]
    }
   ],
   "source": [
    "tiss.obs['age_type_of_interest'] = 'rest'\n",
    "results_age_cv = pd.DataFrame() #create results data frame \n",
    "\n",
    "for c in list(set(tiss.obs['age'])): \n",
    "    print(c)\n",
    "    clf = RandomForestClassifier(n_estimators=1000, random_state=0, n_jobs=-1, oob_score=True)\n",
    "    selector = RFECV(clf, step=0.2, cv=3, n_jobs=4) # step = % rounded down at each iteration  \n",
    "    age_of_interest = c\n",
    "#     OLD ONEtiss.obs.loc[tiss.obs[tiss.obs['age'] == age_of_interest].index,'age_type_of_interest'] = age_of_interest\n",
    "    tiss.obs.loc[tiss.obs['age'] == age_of_interest,'age_type_of_interest'] = age_of_interest\n",
    "    \n",
    "    feat_labels = tiss.var_names \n",
    "    newX = tiss.X[0:,0:10]\n",
    "    newy = tiss.obs['age_type_of_interest'][0:10]\n",
    "    \n",
    "    print('training...')\n",
    "    X_train, X_test, y_train, y_test = train_test_split(X, y, test_size=0.05, random_state=0) \n",
    "    clf.fit(X_train, y_train)\n",
    "    selector.fit(X_train, y_train)\n",
    "    feature_selected = feat_labels[selector.support_] \n",
    "    \n",
    "    print('result writing')\n",
    "    column_headings = []\n",
    "    column_headings.append(c)\n",
    "    column_headings.append(c + '_gini')\n",
    "    \n",
    "    resaux = pd.DataFrame(columns=column_headings)\n",
    "    resaux[c] = feature_selected\n",
    "    resaux[c + '_gini'] = (selector.estimator_.feature_importances_)\n",
    "    \n",
    "    print(feature_selected)\n",
    "    print (selector.estimator_.feature_importances_)\n",
    "    \n",
    "    results_age_cv = pd.concat([results_age_cv,resaux],axis=1)\n",
    "    \n",
    "    tiss.obs['age_type_of_interest'] = 'rest'\n",
    "    \n",
    "results_age_cv"
   ]
  },
  {
   "cell_type": "code",
   "execution_count": null,
   "metadata": {},
   "outputs": [],
   "source": [
    "CHANGE NAME!!\n",
    "# results_age_cv.to_csv('042020KidneyFacsAge1000.csv')"
   ]
  },
  {
   "cell_type": "markdown",
   "metadata": {},
   "source": [
    "### Run scRFE one vs all classification for cell type"
   ]
  },
  {
   "cell_type": "code",
   "execution_count": null,
   "metadata": {},
   "outputs": [
    {
     "name": "stdout",
     "output_type": "stream",
     "text": [
      "Kidney-new-24m-cluster\n",
      "training...\n",
      "result writing\n",
      "Index(['Beta-s', 'Gm16861', 'Plin5', 'Sec14l3'], dtype='object', name='index')\n",
      "[0.45796539 0.173545   0.10231781 0.26617181]\n",
      "kidney loop of Henle ascending limb epithelial cell\n",
      "training...\n"
     ]
    }
   ],
   "source": [
    "tiss.obs['cell_type_of_interest'] = 'rest'\n",
    "results_celltype_cv = pd.DataFrame() #create results data frame \n",
    "\n",
    "for c in list(set(tiss.obs['cell_ontology_class'])): \n",
    "    print(c)\n",
    "    clf = RandomForestClassifier(n_estimators=1000, random_state=0, n_jobs=-1, oob_score=True)\n",
    "    selector = RFECV(clf, step=0.2, cv=3, n_jobs=4) # step = % rounded down at each iteration  \n",
    "    cell_of_interest = c\n",
    "    \n",
    "    tiss.obs.loc[tiss.obs[tiss.obs['cell_ontology_class'] == cell_of_interest].index,'cell_type_of_interest'] = cell_of_interest\n",
    "    \n",
    "    feat_labels = tiss.var_names \n",
    "    X = tiss.X\n",
    "    y = tiss.obs['cell_type_of_interest']\n",
    "    \n",
    "    print('training...')\n",
    "    X_train, X_test, y_train, y_test = train_test_split(X, y, test_size=0.05, random_state=0) \n",
    "    clf.fit(X_train, y_train)\n",
    "    selector.fit(X_train, y_train)\n",
    "    feature_selected = feat_labels[selector.support_] \n",
    "    \n",
    "    print('result writing')\n",
    "    column_headings = []\n",
    "    column_headings.append(c)\n",
    "    column_headings.append(c + '_gini')\n",
    "    \n",
    "    resaux = pd.DataFrame(columns=column_headings)\n",
    "    resaux[c] = feature_selected\n",
    "    resaux[c + '_gini'] = (selector.estimator_.feature_importances_)\n",
    "    \n",
    "    print(feature_selected)\n",
    "    print (selector.estimator_.feature_importances_)\n",
    "    \n",
    "    results_celltype_cv = pd.concat([results_celltype_cv,resaux],axis=1)\n",
    "    \n",
    "    tiss.obs['cell_type_of_interest'] = 'rest'\n",
    "    \n",
    "results_celltype_cv"
   ]
  },
  {
   "cell_type": "code",
   "execution_count": null,
   "metadata": {},
   "outputs": [],
   "source": []
  },
  {
   "cell_type": "code",
   "execution_count": null,
   "metadata": {},
   "outputs": [],
   "source": []
  },
  {
   "cell_type": "code",
   "execution_count": null,
   "metadata": {},
   "outputs": [],
   "source": []
  }
 ],
 "metadata": {
  "kernelspec": {
   "display_name": "Python 3",
   "language": "python",
   "name": "python3"
  },
  "language_info": {
   "codemirror_mode": {
    "name": "ipython",
    "version": 3
   },
   "file_extension": ".py",
   "mimetype": "text/x-python",
   "name": "python",
   "nbconvert_exporter": "python",
   "pygments_lexer": "ipython3",
   "version": "3.6.8"
  }
 },
 "nbformat": 4,
 "nbformat_minor": 2
}
