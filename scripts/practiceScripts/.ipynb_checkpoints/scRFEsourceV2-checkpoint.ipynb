{
 "cells": [
  {
   "cell_type": "markdown",
   "metadata": {},
   "source": [
    "# scRFE source V2 -- kidney split by age"
   ]
  },
  {
   "cell_type": "code",
   "execution_count": 10,
   "metadata": {},
   "outputs": [],
   "source": [
    "# cleaning up code after meeting with Sevahn"
   ]
  },
  {
   "cell_type": "code",
   "execution_count": 11,
   "metadata": {},
   "outputs": [],
   "source": [
    "# all code broken up into separate arguments for scRFE"
   ]
  },
  {
   "cell_type": "code",
   "execution_count": 12,
   "metadata": {},
   "outputs": [],
   "source": [
    "# Imports \n",
    "import numpy as np\n",
    "import pandas as pd\n",
    "import scanpy as sc\n",
    "from anndata import read_h5ad\n",
    "from sklearn.ensemble import RandomForestClassifier\n",
    "from sklearn.model_selection import train_test_split\n",
    "from sklearn.feature_selection import SelectFromModel\n",
    "from sklearn.metrics import accuracy_score\n",
    "from sklearn.feature_selection import RFE\n",
    "from sklearn.feature_selection import RFECV"
   ]
  },
  {
   "cell_type": "code",
   "execution_count": 13,
   "metadata": {},
   "outputs": [],
   "source": [
    "# read in data \n",
    "adata = read_h5ad('/Users/madelinepark/Downloads/Kidney_facs.h5ad')\n",
    "tiss = adata"
   ]
  },
  {
   "cell_type": "code",
   "execution_count": 14,
   "metadata": {},
   "outputs": [],
   "source": [
    "# split data for training\n",
    "def loc_split_function(tiss, feature='age'):\n",
    "    tiss.obs['feature_type_of_interest'] = 'rest'\n",
    "    for c in list(set(tiss.obs[feature])): \n",
    "        feature_of_interest = c\n",
    "        tiss.obs.loc[tiss.obs[tiss.obs[feature] == feature_of_interest].index,'feature_type_of_interest'] = feature_of_interest\n",
    "        feat_labels = tiss.var_names \n",
    "        X = tiss.X\n",
    "        y = tiss.obs['feature_type_of_interest']\n",
    "    return X, y, feature, feat_labels #this is returning only the last thing in the loop "
   ]
  },
  {
   "cell_type": "code",
   "execution_count": 15,
   "metadata": {},
   "outputs": [],
   "source": [
    "# create random forest and selector, then train\n",
    "def train_function(X, y, test_size, random_state):\n",
    "    print('training...')\n",
    "    loc_split = loc_split_function(tiss=tiss, feature='age')\n",
    "    X = loc_split[0]\n",
    "    y = loc_split[1]\n",
    "    feat_labels = loc_split[3] #this should not be hardcoded #genes be argument\n",
    "    X_train, X_test, y_train, y_test = train_test_split(X, y, test_size=0.05, random_state=0) \n",
    "    clf = RandomForestClassifier(n_estimators=1000, random_state=0, n_jobs=-1, oob_score=True)\n",
    "    selector = RFECV(clf, step=0.2, cv=3, n_jobs=4)\n",
    "    clf.fit(X_train, y_train)\n",
    "    selector.fit(X_train, y_train)\n",
    "    feature_selected = feat_labels[selector.support_]\n",
    "    return selector, clf, feat_labels, feature_selected, selector.estimator_.feature_importances_, X_train, X_test, y_train, y_test"
   ]
  },
  {
   "cell_type": "code",
   "execution_count": 16,
   "metadata": {},
   "outputs": [
    {
     "name": "stdout",
     "output_type": "stream",
     "text": [
      "/Users/madelinepark/src3/scRFE/scRFE-results\n"
     ]
    }
   ],
   "source": [
    "cd /Users/madelinepark/src3/scRFE/scRFE-results"
   ]
  },
  {
   "cell_type": "code",
   "execution_count": 17,
   "metadata": {},
   "outputs": [],
   "source": [
    "# result write\n",
    "def result_write (c, feature_selected, tiss, feature='age',test_size=0.05, random_state=0): \n",
    "    results_df = pd.DataFrame()\n",
    "    print('result writing...')\n",
    "    loc_split = loc_split_function(tiss=tiss, feature= feature)\n",
    "    X = loc_split[0]\n",
    "    y = loc_split[1]\n",
    "    train = train_function(X, y, test_size, random_state)\n",
    "    feat_labels = train[0] \n",
    "    feature_selected = train[3]\n",
    "    gini_scores = train[4]\n",
    "    column_headings = []\n",
    "    column_headings.append(c)\n",
    "    column_headings.append(c + '_gini')\n",
    "    resaux = pd.DataFrame(columns=column_headings)\n",
    "    resaux[c] = feature_selected \n",
    "    resaux[c + '_gini'] = (gini_scores) \n",
    "    results_df = pd.concat([results_df,resaux],axis=1)\n",
    "    tiss.obs['feature_type_of_interest'] = 'rest'\n",
    "    file_name = feature + c + \".csv\"\n",
    "    print(results_df)\n",
    "    results_df.to_csv(file_name) #trying to save results as a csv\n",
    "    return results_df"
   ]
  },
  {
   "cell_type": "code",
   "execution_count": 18,
   "metadata": {},
   "outputs": [],
   "source": [
    "# gini_3_m = result_write (c='3m', feature_selected, tiss, feature='age',test_size=0.05, random_state=0)\n",
    "# gini_24_m = result_write (c='24m', feature_selected, tiss, feature='age',test_size=0.05, random_state=0)"
   ]
  },
  {
   "cell_type": "code",
   "execution_count": 19,
   "metadata": {},
   "outputs": [],
   "source": [
    "# combined functions\n",
    "def scRFE (tiss=tiss, X=tiss.X, feature='age', n_estimators=1000, random_state=0, n_jobs=-1, oob_score=True, test_size = 0.05, step=0.2, cv=5) :\n",
    "    all_trees = []\n",
    "    for c in list(set(tiss.obs[feature])): \n",
    "        print(c)\n",
    "        loc_split = loc_split_function(tiss=tiss, feature= feature)\n",
    "        X = loc_split[0] #change age to feature\n",
    "        y = loc_split[1]\n",
    "        feature = loc_split[2]\n",
    "        feat_labels = loc_split[3]\n",
    "        train = train_function(X, y, test_size, random_state)\n",
    "        feature_selected = train[1]\n",
    "        X_train = train[2]\n",
    "        X_test = train[3]\n",
    "        y_train = train[4]\n",
    "        y_test = train[5]\n",
    "        all_trees += [result_write(c, feature_selected, tiss, feature=feature,test_size=0.05, random_state=0)]\n",
    "        #returns data frames from SCRFE in order\n",
    "        tiss.obs['age_type_of_interest'] = 'rest'\n",
    "    return all_trees\n",
    "#         results_df.to_csv('scRFE-results.csv') #trying to save results as a csv - this didnt work"
   ]
  },
  {
   "cell_type": "code",
   "execution_count": null,
   "metadata": {},
   "outputs": [],
   "source": [
    "scRFE(tiss=tiss, feature='age', n_estimators=10, random_state=0, n_jobs=-1, oob_score=True, test_size = 0.05, step=0.2, cv=5)"
   ]
  },
  {
   "cell_type": "code",
   "execution_count": null,
   "metadata": {},
   "outputs": [],
   "source": [
    "makeAllTrees = scRFE(tiss=tiss, feature='age', n_estimators=10, random_state=0, n_jobs=-1, oob_score=True, test_size = 0.05, step=0.2, cv=5)\n",
    "# age3 = makeAllTrees[1]\n",
    "# age24 = makeAllTrees[0]"
   ]
  },
  {
   "cell_type": "code",
   "execution_count": null,
   "metadata": {},
   "outputs": [],
   "source": [
    "# run function\n",
    "scRFE(tiss=tiss, feature='age', n_estimators=1000, random_state=0, n_jobs=-1, oob_score=True, test_size = 0.05, step=0.2, cv=5)"
   ]
  },
  {
   "cell_type": "code",
   "execution_count": 51,
   "metadata": {},
   "outputs": [
    {
     "data": {
      "text/plain": [
       "'/Users/madelinepark/src3/scRFE/scRFE-results'"
      ]
     },
     "execution_count": 51,
     "metadata": {},
     "output_type": "execute_result"
    }
   ],
   "source": [
    "# how do i get it to append after so the last dataframe doesnt completely overwrite the previous one"
   ]
  },
  {
   "cell_type": "code",
   "execution_count": null,
   "metadata": {},
   "outputs": [],
   "source": [
    "# # combined functions\n",
    "# def scRFE_save (tiss=tiss, X=tiss.X, feature='age', n_estimators=1000, random_state=0, n_jobs=-1, oob_score=True, test_size = 0.05, step=0.2, cv=5) :\n",
    "#     for c in list(set(tiss.obs[feature])): \n",
    "#         print(c)\n",
    "#         X = loc_split(tiss=tiss, feature= feature)[0] #change age to feature\n",
    "#         y = loc_split(tiss=tiss, feature= feature)[1]\n",
    "#         feature = loc_split(tiss=tiss, feature= feature)[2]\n",
    "#         feat_labels = loc_split(tiss=tiss, feature= feature)[3]\n",
    "#         feature_selected = train(X, y, test_size, random_state)[1]\n",
    "#         X_train = train(X, y, test_size, random_state)[2]\n",
    "#         X_test = train(X, y, test_size, random_state)[3]\n",
    "#         y_train = train(X, y, test_size, random_state)[4]\n",
    "#         y_test = train(X, y, test_size, random_state)[5]\n",
    "#         result_write(c, feature_selected, tiss, feature=feature,test_size=0.05, random_state=0)\n",
    "#         tiss.obs['age_type_of_interest'] = 'rest'\n",
    "# #         not sorted"
   ]
  },
  {
   "cell_type": "code",
   "execution_count": null,
   "metadata": {},
   "outputs": [],
   "source": []
  }
 ],
 "metadata": {
  "kernelspec": {
   "display_name": "Python 3",
   "language": "python",
   "name": "python3"
  },
  "language_info": {
   "codemirror_mode": {
    "name": "ipython",
    "version": 3
   },
   "file_extension": ".py",
   "mimetype": "text/x-python",
   "name": "python",
   "nbconvert_exporter": "python",
   "pygments_lexer": "ipython3",
   "version": "3.6.8"
  }
 },
 "nbformat": 4,
 "nbformat_minor": 2
}
