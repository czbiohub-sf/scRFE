{
 "cells": [
  {
   "cell_type": "code",
   "execution_count": 2,
   "metadata": {},
   "outputs": [],
   "source": [
    "# facsGlobalobjects-Age\n",
    "# one vs all for 3m, 18m, 24m"
   ]
  },
  {
   "cell_type": "code",
   "execution_count": null,
   "metadata": {},
   "outputs": [],
   "source": [
    "adata = read_h5ad('/data/madeline/src3/01_figure_1/tabula-muris-senis-facs-processed-official-annotations.h5ad')"
   ]
  },
  {
   "cell_type": "code",
   "execution_count": null,
   "metadata": {},
   "outputs": [],
   "source": [
    "from anndata import read_h5ad\n",
    "import numpy as np \n",
    "import pandas as pd\n",
    "from scRFE.scRFE import scRFE\n",
    "from scRFE.scRFE import makeOneForest\n",
    "from scRFE.scRFE import resultWrite"
   ]
  },
  {
   "cell_type": "code",
   "execution_count": null,
   "metadata": {},
   "outputs": [],
   "source": [
    "# 3m"
   ]
  },
  {
   "cell_type": "code",
   "execution_count": null,
   "metadata": {},
   "outputs": [],
   "source": [
    "forest3m = makeOneForest(dataMatrix=adata, classOfInterest='age', labelOfInterest='3m', nEstimators=1000,\n",
    "                   randomState=0,  min_cells=15, keep_small_categories=True,\n",
    "                   nJobs=-1, oobScore=True, Step=0.2, Cv=5, verbosity=True)"
   ]
  },
  {
   "cell_type": "code",
   "execution_count": null,
   "metadata": {},
   "outputs": [],
   "source": [
    "column_headings = ['3m','3m_gini']\n",
    "resultsdf = pd.DataFrame(columns = column_headings)\n",
    "resultsdf['3m'] = forest3m[0]\n",
    "resultsdf['3m_gini'] = forest3m[1]\n",
    "resultsdf = resultsdf.sort_values(by = ['3m_gini'], ascending = False)\n",
    "resultsdf.reset_index(drop = True, inplace = True)"
   ]
  },
  {
   "cell_type": "code",
   "execution_count": null,
   "metadata": {},
   "outputs": [],
   "source": [
    "resultsdf.to_csv('facsAllGenes3m.csv')"
   ]
  },
  {
   "cell_type": "code",
   "execution_count": null,
   "metadata": {},
   "outputs": [],
   "source": [
    "# 18m"
   ]
  },
  {
   "cell_type": "code",
   "execution_count": null,
   "metadata": {},
   "outputs": [],
   "source": [
    "forest18m = makeOneForest(dataMatrix=adata, classOfInterest='age', labelOfInterest='18m', nEstimators=1000,\n",
    "                   randomState=0,  min_cells=15, keep_small_categories=True,\n",
    "                   nJobs=-1, oobScore=True, Step=0.2, Cv=5, verbosity=True)"
   ]
  },
  {
   "cell_type": "code",
   "execution_count": null,
   "metadata": {},
   "outputs": [],
   "source": [
    "column_headings = ['18m','18m_gini']\n",
    "resultsdf = pd.DataFrame(columns = column_headings)\n",
    "resultsdf['18m'] = forest18m[0]\n",
    "resultsdf['18m_gini'] = forest18m[1]\n",
    "resultsdf = resultsdf.sort_values(by = ['18m_gini'], ascending = False)\n",
    "resultsdf.reset_index(drop = True, inplace = True)"
   ]
  },
  {
   "cell_type": "code",
   "execution_count": null,
   "metadata": {},
   "outputs": [],
   "source": [
    "resultsdf.to_csv('facsAllGenes18m.csv')"
   ]
  },
  {
   "cell_type": "code",
   "execution_count": null,
   "metadata": {},
   "outputs": [],
   "source": [
    "# 24"
   ]
  },
  {
   "cell_type": "code",
   "execution_count": null,
   "metadata": {},
   "outputs": [],
   "source": [
    "forest24m = makeOneForest(dataMatrix=adata, classOfInterest='age', labelOfInterest='24m', nEstimators=1000,\n",
    "                   randomState=0,  min_cells=15, keep_small_categories=True,\n",
    "                   nJobs=-1, oobScore=True, Step=0.2, Cv=5, verbosity=True)"
   ]
  },
  {
   "cell_type": "code",
   "execution_count": null,
   "metadata": {},
   "outputs": [],
   "source": [
    "column_headings = ['24m','24m_gini']\n",
    "resultsdf = pd.DataFrame(columns = column_headings)\n",
    "resultsdf['24m'] = forest24m[0]\n",
    "resultsdf['24m_gini'] = forest24m[1]\n",
    "resultsdf = resultsdf.sort_values(by = ['24m_gini'], ascending = False)\n",
    "resultsdf.reset_index(drop = True, inplace = True)"
   ]
  },
  {
   "cell_type": "code",
   "execution_count": null,
   "metadata": {},
   "outputs": [],
   "source": [
    "resultsdf.to_csv('facsAllGenes24m.csv')"
   ]
  }
 ],
 "metadata": {
  "kernelspec": {
   "display_name": "Python(scRFE1)",
   "language": "python",
   "name": "scrfe1"
  },
  "language_info": {
   "codemirror_mode": {
    "name": "ipython",
    "version": 3
   },
   "file_extension": ".py",
   "mimetype": "text/x-python",
   "name": "python",
   "nbconvert_exporter": "python",
   "pygments_lexer": "ipython3",
   "version": "3.7.6"
  }
 },
 "nbformat": 4,
 "nbformat_minor": 4
}
