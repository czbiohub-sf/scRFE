{
 "cells": [
  {
   "cell_type": "code",
   "execution_count": null,
   "metadata": {},
   "outputs": [],
   "source": [
    "import numpy as np\n",
    "import pandas as pd\n",
    "import scanpy as sc\n",
    "from anndata import read_h5ad\n",
    "from scRFE.scRFE import scRFE"
   ]
  },
  {
   "cell_type": "code",
   "execution_count": null,
   "metadata": {},
   "outputs": [],
   "source": [
    "# droplet5000"
   ]
  },
  {
   "cell_type": "code",
   "execution_count": null,
   "metadata": {},
   "outputs": [],
   "source": [
    "adata = read_h5ad('/data/madeline/src3/01_figure_1/tabula-muris-senis-droplet-processed-official-annotations.h5ad')"
   ]
  },
  {
   "cell_type": "code",
   "execution_count": null,
   "metadata": {},
   "outputs": [],
   "source": [
    "mouse_tfs = pd.read_csv(\"/home/angela/maca/GO_term_summary_20171110_222852.csv\")\n",
    "mouse_tfs.head()"
   ]
  },
  {
   "cell_type": "code",
   "execution_count": null,
   "metadata": {},
   "outputs": [],
   "source": [
    "adata = adata[:,adata.var_names[adata.var_names.isin(mouse_tfs['Symbol'])]]\n",
    "adata.obs"
   ]
  },
  {
   "cell_type": "code",
   "execution_count": null,
   "metadata": {},
   "outputs": [],
   "source": [
    "allTiss = list(set(adata.obs['tissue']))\n",
    "for i in range(len(allTiss)):\n",
    "    print (allTiss[i])\n",
    "    tissue = allTiss[i]\n",
    "    tiss_running = adata[adata.obs['tissue']==tissue].copy()\n",
    "    allTiss[i] = scRFE(adata = tiss_running, classOfInterest = 'age', nEstimators =5000, Cv = 5)\n",
    "    allTiss[i].to_csv(tissue+'_droplet_tf_age_5000'+'.csv')"
   ]
  },
  {
   "cell_type": "code",
   "execution_count": null,
   "metadata": {},
   "outputs": [],
   "source": [
    "# droplet1000"
   ]
  },
  {
   "cell_type": "code",
   "execution_count": null,
   "metadata": {},
   "outputs": [],
   "source": [
    "allTiss = list(set(adata.obs['tissue']))\n",
    "for i in range(len(allTiss)):\n",
    "    print (allTiss[i])\n",
    "    tissue = allTiss[i]\n",
    "    tiss_running = adata[adata.obs['tissue']==tissue].copy()\n",
    "    allTiss[i] = scRFE(adata = tiss_running, classOfInterest = 'age', nEstimators =1000, Cv = 5)\n",
    "    allTiss[i].to_csv(tissue+'_droplet_tf_age_1000'+'.csv')"
   ]
  },
  {
   "cell_type": "code",
   "execution_count": 1,
   "metadata": {},
   "outputs": [],
   "source": [
    "# facs5000"
   ]
  },
  {
   "cell_type": "code",
   "execution_count": null,
   "metadata": {},
   "outputs": [],
   "source": [
    "adata = read_h5ad('/data/madeline/src3/01_figure_1/tabula-muris-senis-facs-processed-official-annotations.h5ad')"
   ]
  },
  {
   "cell_type": "code",
   "execution_count": null,
   "metadata": {},
   "outputs": [],
   "source": [
    "adata = adata[:,adata.var_names[adata.var_names.isin(mouse_tfs['Symbol'])]]\n",
    "adata.obs"
   ]
  },
  {
   "cell_type": "code",
   "execution_count": null,
   "metadata": {},
   "outputs": [],
   "source": [
    "allTiss = list(set(adata.obs['tissue']))\n",
    "for i in range(len(allTiss)):\n",
    "    print (allTiss[i])\n",
    "    tissue = allTiss[i]\n",
    "    tiss_running = adata[adata.obs['tissue']==tissue].copy()\n",
    "    allTiss[i] = scRFE(adata = tiss_running, classOfInterest = 'age', nEstimators =5000, Cv = 5)\n",
    "    allTiss[i].to_csv(tissue+'_facs_tf_age_5000'+'.csv')"
   ]
  },
  {
   "cell_type": "code",
   "execution_count": null,
   "metadata": {},
   "outputs": [],
   "source": [
    "# facs1000"
   ]
  },
  {
   "cell_type": "code",
   "execution_count": null,
   "metadata": {},
   "outputs": [],
   "source": [
    "allTiss = list(set(adata.obs['tissue']))\n",
    "for i in range(len(allTiss)):\n",
    "    print (allTiss[i])\n",
    "    tissue = allTiss[i]\n",
    "    tiss_running = adata[adata.obs['tissue']==tissue].copy()\n",
    "    allTiss[i] = scRFE(adata = tiss_running, classOfInterest = 'age', nEstimators =1000, Cv = 5)\n",
    "    allTiss[i].to_csv(tissue+'_facs_tf_age_1000'+'.csv')"
   ]
  },
  {
   "cell_type": "code",
   "execution_count": null,
   "metadata": {},
   "outputs": [],
   "source": []
  },
  {
   "cell_type": "code",
   "execution_count": null,
   "metadata": {},
   "outputs": [],
   "source": []
  }
 ],
 "metadata": {
  "kernelspec": {
   "display_name": "Python(scRFE1)",
   "language": "python",
   "name": "scrfe1"
  },
  "language_info": {
   "codemirror_mode": {
    "name": "ipython",
    "version": 3
   },
   "file_extension": ".py",
   "mimetype": "text/x-python",
   "name": "python",
   "nbconvert_exporter": "python",
   "pygments_lexer": "ipython3",
   "version": "3.7.6"
  }
 },
 "nbformat": 4,
 "nbformat_minor": 4
}
