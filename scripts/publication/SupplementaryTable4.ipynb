{
 "cells": [
  {
   "cell_type": "code",
   "execution_count": null,
   "metadata": {},
   "outputs": [],
   "source": [
    "# globalObjectsTfs-Age, different nEstimators"
   ]
  },
  {
   "cell_type": "code",
   "execution_count": null,
   "metadata": {},
   "outputs": [],
   "source": [
    "from scRFE.scRFE import scRFE\n",
    "from anndata import read_h5ad\n",
    "import pandas as pd "
   ]
  },
  {
   "cell_type": "code",
   "execution_count": null,
   "metadata": {},
   "outputs": [],
   "source": [
    "# facs"
   ]
  },
  {
   "cell_type": "code",
   "execution_count": null,
   "metadata": {},
   "outputs": [],
   "source": [
    "adata = read_h5ad('/data/madeline/src3/01_figure_1/tabula-muris-senis-facs-processed-official-annotations.h5ad')"
   ]
  },
  {
   "cell_type": "code",
   "execution_count": null,
   "metadata": {},
   "outputs": [],
   "source": [
    "mouse_tfs = pd.read_csv(\"/home/angela/maca/GO_term_summary_20171110_222852.csv\")"
   ]
  },
  {
   "cell_type": "code",
   "execution_count": null,
   "metadata": {},
   "outputs": [],
   "source": [
    "adata = adata[:,adata.var_names[adata.var_names.isin(mouse_tfs['Symbol'])]]"
   ]
  },
  {
   "cell_type": "code",
   "execution_count": null,
   "metadata": {},
   "outputs": [],
   "source": [
    "scRFE50 = scRFE(adata=adata, classOfInterest = 'age', nEstimators = 50, Cv=5)\n",
    "scRFE50[0].to_csv('50_facs_tfs_age.csv')"
   ]
  },
  {
   "cell_type": "code",
   "execution_count": null,
   "metadata": {},
   "outputs": [],
   "source": [
    "scRFE100 = scRFE(adata=adata, classOfInterest = 'age', nEstimators = 100, Cv=5)\n",
    "scRFE100[0].to_csv('100_facs_tfs_age.csv')"
   ]
  },
  {
   "cell_type": "code",
   "execution_count": null,
   "metadata": {},
   "outputs": [],
   "source": [
    "scRFE500 = scRFE(adata=adata, classOfInterest = 'age', nEstimators = 500, Cv=5)\n",
    "scRFE500[0].to_csv('500_facs_tfs_age.csv')"
   ]
  },
  {
   "cell_type": "code",
   "execution_count": null,
   "metadata": {},
   "outputs": [],
   "source": [
    "scRFE1000 = scRFE(adata=adata, classOfInterest = 'age', nEstimators = 1000, Cv=5)\n",
    "scRFE1000[0].to_csv('1000_facs_tfs_age.csv')"
   ]
  },
  {
   "cell_type": "code",
   "execution_count": null,
   "metadata": {},
   "outputs": [],
   "source": [
    "scRFE2000 = scRFE(adata=adata, classOfInterest = 'age', nEstimators = 2000, Cv=5)\n",
    "scRFE2000[0].to_csv('2000_facs_tfs_age.csv')"
   ]
  },
  {
   "cell_type": "code",
   "execution_count": 1,
   "metadata": {},
   "outputs": [],
   "source": [
    "# droplet"
   ]
  },
  {
   "cell_type": "code",
   "execution_count": null,
   "metadata": {},
   "outputs": [],
   "source": [
    "dropletAdata = read_h5ad('/data/madeline/src3/01_figure_1/tabula-muris-senis-droplet-processed-official-annotations.h5ad')"
   ]
  },
  {
   "cell_type": "code",
   "execution_count": null,
   "metadata": {},
   "outputs": [],
   "source": [
    "adata = dropletAdata[:,dropletAdata.var_names[dropletAdata.var_names.isin(mouse_tfs['Symbol'])]]"
   ]
  },
  {
   "cell_type": "code",
   "execution_count": null,
   "metadata": {},
   "outputs": [],
   "source": [
    "scRFE50 = scRFE(adata=adata, classOfInterest = 'age', nEstimators = 50, Cv=5)\n",
    "scRFE50[0].to_csv('50_droplet_tfs_age.csv')"
   ]
  },
  {
   "cell_type": "code",
   "execution_count": null,
   "metadata": {},
   "outputs": [],
   "source": [
    "scRFE100 = scRFE(adata=adata, classOfInterest = 'age', nEstimators = 100, Cv=5)\n",
    "scRFE100[0].to_csv('100_droplet_tfs_age.csv')"
   ]
  },
  {
   "cell_type": "code",
   "execution_count": null,
   "metadata": {},
   "outputs": [],
   "source": [
    "scRFE500 = scRFE(adata=adata, classOfInterest = 'age', nEstimators = 500, Cv=5)\n",
    "scRFE500[0].to_csv('500_droplet_tfs_age.csv')"
   ]
  },
  {
   "cell_type": "code",
   "execution_count": null,
   "metadata": {},
   "outputs": [],
   "source": [
    "scRFE1000 = scRFE(adata=adata, classOfInterest = 'age', nEstimators = 1000, Cv=5)\n",
    "scRFE1000[0].to_csv('1000_droplet_tfs_age.csv')"
   ]
  },
  {
   "cell_type": "code",
   "execution_count": null,
   "metadata": {},
   "outputs": [],
   "source": [
    "scRFE2000 = scRFE(adata=adata, classOfInterest = 'age', nEstimators = 2000, Cv=5)\n",
    "scRFE2000[0].to_csv('2000_droplet_tfs_age.csv')"
   ]
  },
  {
   "cell_type": "code",
   "execution_count": null,
   "metadata": {},
   "outputs": [],
   "source": [
    "scRFE5000 = scRFE(adata=adata, classOfInterest = 'age', nEstimators = 5000, Cv=5)\n",
    "scRFE5000[0].to_csv('5000_droplet_tfs_age.csv')"
   ]
  }
 ],
 "metadata": {
  "kernelspec": {
   "display_name": "Python(scRFE1)",
   "language": "python",
   "name": "scrfe1"
  },
  "language_info": {
   "codemirror_mode": {
    "name": "ipython",
    "version": 3
   },
   "file_extension": ".py",
   "mimetype": "text/x-python",
   "name": "python",
   "nbconvert_exporter": "python",
   "pygments_lexer": "ipython3",
   "version": "3.7.6"
  }
 },
 "nbformat": 4,
 "nbformat_minor": 4
}
