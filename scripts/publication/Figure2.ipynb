{
 "cells": [
  {
   "cell_type": "markdown",
   "metadata": {},
   "source": [
    "# Figure 2 Generation"
   ]
  },
  {
   "cell_type": "code",
   "execution_count": 1,
   "metadata": {},
   "outputs": [],
   "source": [
    "from matplotlib import pyplot as plt\n",
    "from venn import venn\n",
    "%matplotlib inline"
   ]
  },
  {
   "cell_type": "code",
   "execution_count": null,
   "metadata": {},
   "outputs": [],
   "source": [
    "import matplotlib.pyplot as plt\n",
    "plt.rcParams['pdf.fonttype'] = 42\n",
    "plt.rcParams['ps.fonttype'] = 42\n",
    "# saves text as editable text for illustrator "
   ]
  },
  {
   "cell_type": "code",
   "execution_count": null,
   "metadata": {},
   "outputs": [],
   "source": [
    "import pandas as pd\n",
    "from venn import pseudovenn"
   ]
  },
  {
   "cell_type": "code",
   "execution_count": null,
   "metadata": {},
   "outputs": [],
   "source": []
  },
  {
   "cell_type": "code",
   "execution_count": null,
   "metadata": {},
   "outputs": [],
   "source": [
    "mammaryGlandDroplet = pd.read_csv('/Users/madelinepark/Downloads/Mammary_Gland_droplet_tf_age_5000.csv')\n",
    "mammaryGlandFacs = pd.read_csv('/Users/madelinepark/Downloads/Mammary_Gland_facs_tf_age_5000.csv')"
   ]
  },
  {
   "cell_type": "code",
   "execution_count": null,
   "metadata": {},
   "outputs": [],
   "source": [
    "mammaryGlandfacsDroplet3m = {\n",
    "    'Mammary_Gland_droplet_3m' : set(mammaryGlandDroplet['3m']),\n",
    "    'Mammary_Gland_facs_3m' : set(mammaryGlandFacs['3m'])\n",
    "}\n",
    "venn(mammaryGlandfacsDroplet3m)\n",
    "plt.savefig('mammaryGlandfacsDroplet3m.pdf')"
   ]
  },
  {
   "cell_type": "code",
   "execution_count": null,
   "metadata": {},
   "outputs": [],
   "source": [
    "LungDroplet = pd.read_csv('/Users/madelinepark/Downloads/Lung_droplet_tf_age_5000.csv')\n",
    "LungFacs = pd.read_csv('/Users/madelinepark/Downloads/Lung_facs_tf_age_5000.csv')"
   ]
  },
  {
   "cell_type": "code",
   "execution_count": null,
   "metadata": {},
   "outputs": [],
   "source": [
    "LungfacsDroplet18m = {\n",
    "    'Lung_droplet_18m' : set(LungDroplet['18m']),\n",
    "    'Lung_facs_18m' : set(LungFacs['18m'])\n",
    "}\n",
    "venn(LungfacsDroplet18m)\n",
    "plt.savefig('LungfacsDroplet18m.pdf')"
   ]
  },
  {
   "cell_type": "code",
   "execution_count": null,
   "metadata": {},
   "outputs": [],
   "source": [
    "liverCellFacs = pd.read_csv('Liverfacs1000tfcelltype2.csv')\n",
    "liverCellDrop = pd.read_csv('Liverdroplet1000tfcelltype2.csv')"
   ]
  },
  {
   "cell_type": "code",
   "execution_count": null,
   "metadata": {},
   "outputs": [],
   "source": [
    "LiverFacsDroplet1 = {\n",
    "    'Liver Facs NK Cell Genes' : set(liverCellFacs['NK cell']),\n",
    "    'Liver Droplet NK Cell Genes' : set(liverCellDrop['NK cell'])\n",
    "}\n",
    "venn(LiverFacsDroplet1)\n"
   ]
  },
  {
   "cell_type": "code",
   "execution_count": null,
   "metadata": {},
   "outputs": [],
   "source": []
  },
  {
   "cell_type": "code",
   "execution_count": null,
   "metadata": {},
   "outputs": [],
   "source": []
  },
  {
   "cell_type": "code",
   "execution_count": null,
   "metadata": {},
   "outputs": [],
   "source": []
  }
 ],
 "metadata": {
  "kernelspec": {
   "display_name": "Python(scRFE1)",
   "language": "python",
   "name": "scrfe1"
  },
  "language_info": {
   "codemirror_mode": {
    "name": "ipython",
    "version": 3
   },
   "file_extension": ".py",
   "mimetype": "text/x-python",
   "name": "python",
   "nbconvert_exporter": "python",
   "pygments_lexer": "ipython3",
   "version": "3.7.6"
  }
 },
 "nbformat": 4,
 "nbformat_minor": 4
}
