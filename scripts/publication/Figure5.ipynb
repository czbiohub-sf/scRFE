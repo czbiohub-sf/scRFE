{
 "cells": [
  {
   "cell_type": "markdown",
   "metadata": {},
   "source": [
    "# Figure 5 Generation"
   ]
  },
  {
   "cell_type": "code",
   "execution_count": null,
   "metadata": {},
   "outputs": [],
   "source": [
    "from matplotlib import pyplot as plt\n",
    "from venn import venn\n",
    "%matplotlib inline"
   ]
  },
  {
   "cell_type": "code",
   "execution_count": null,
   "metadata": {},
   "outputs": [],
   "source": [
    "import matplotlib.pyplot as plt\n",
    "plt.rcParams['pdf.fonttype'] = 42\n",
    "plt.rcParams['ps.fonttype'] = 42\n",
    "# saves text as editable text for illustrator "
   ]
  },
  {
   "cell_type": "code",
   "execution_count": null,
   "metadata": {},
   "outputs": [],
   "source": [
    "import pandas as pd\n",
    "from venn import pseudovenn"
   ]
  },
  {
   "cell_type": "code",
   "execution_count": null,
   "metadata": {},
   "outputs": [],
   "source": [
    "cd /users/madelinepark/Downloads/differentTreesFacsTfsResults"
   ]
  },
  {
   "cell_type": "code",
   "execution_count": null,
   "metadata": {},
   "outputs": [],
   "source": [
    "facs50 = pd.read_csv('50_facs_tfs_age.csv')\n",
    "facs100 = pd.read_csv('100_facs_tfs_age.csv')\n",
    "facs500 = pd.read_csv('500_facs_tfs_age.csv')\n",
    "facs1000 = pd.read_csv('1000_facs_tfs_age.csv')\n",
    "facs2000 = pd.read_csv('2000_facs_tfs_age.csv')\n",
    "# facs5000 = pd.read_csv('senis_wholefacs_tfs_age_5000 (1).csv')"
   ]
  },
  {
   "cell_type": "code",
   "execution_count": null,
   "metadata": {},
   "outputs": [],
   "source": [
    "facs5000 = pd.read_csv('senis_wholefacs_tfs_age_5000 (1).csv')"
   ]
  },
  {
   "cell_type": "code",
   "execution_count": null,
   "metadata": {},
   "outputs": [],
   "source": [
    "facsNest = {\n",
    "#     'facs50' :set(facs50['18m']),\n",
    "    'nEstimators = 100' :set(facs100['18m']),\n",
    "    'nEstimators = 500' :set(facs500['18m']),\n",
    "    'nEstimators = 1000' :set(facs1000['18m']),\n",
    "    'nEstimators = 2000' :set(facs2000['18m']),\n",
    "    'nEstimators = 5000' :set(facs5000['18m'])\n",
    "}"
   ]
  },
  {
   "cell_type": "code",
   "execution_count": null,
   "metadata": {},
   "outputs": [],
   "source": [
    "venn(facsNest)\n",
    "plt.savefig('facs18mDifferentNest.pdf') "
   ]
  },
  {
   "cell_type": "code",
   "execution_count": null,
   "metadata": {},
   "outputs": [],
   "source": []
  },
  {
   "cell_type": "code",
   "execution_count": null,
   "metadata": {},
   "outputs": [],
   "source": []
  }
 ],
 "metadata": {
  "kernelspec": {
   "display_name": "Python(scRFE1)",
   "language": "python",
   "name": "scrfe1"
  },
  "language_info": {
   "codemirror_mode": {
    "name": "ipython",
    "version": 3
   },
   "file_extension": ".py",
   "mimetype": "text/x-python",
   "name": "python",
   "nbconvert_exporter": "python",
   "pygments_lexer": "ipython3",
   "version": "3.7.6"
  }
 },
 "nbformat": 4,
 "nbformat_minor": 4
}
