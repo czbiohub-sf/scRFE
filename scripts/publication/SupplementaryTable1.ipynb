{
 "cells": [
  {
   "cell_type": "markdown",
   "metadata": {},
   "source": [
    "# scRFE results for supplementary table 1"
   ]
  },
  {
   "cell_type": "code",
   "execution_count": 1,
   "metadata": {},
   "outputs": [],
   "source": [
    "# ageTissTfs-celltype"
   ]
  },
  {
   "cell_type": "code",
   "execution_count": 1,
   "metadata": {},
   "outputs": [],
   "source": [
    "from scRFE.scRFE import scRFE\n",
    "from anndata import read_h5ad\n",
    "import pandas as pd "
   ]
  },
  {
   "cell_type": "code",
   "execution_count": null,
   "metadata": {},
   "outputs": [],
   "source": [
    "mouse_tfs = pd.read_csv(\"/home/angela/maca/GO_term_summary_20171110_222852.csv\")"
   ]
  },
  {
   "cell_type": "code",
   "execution_count": null,
   "metadata": {},
   "outputs": [],
   "source": [
    "# droplet"
   ]
  },
  {
   "cell_type": "code",
   "execution_count": null,
   "metadata": {},
   "outputs": [],
   "source": [
    "adata = read_h5ad('/data/madeline/src3/01_figure_1/tabula-muris-senis-droplet-processed-official-annotations.h5ad')"
   ]
  },
  {
   "cell_type": "code",
   "execution_count": null,
   "metadata": {},
   "outputs": [],
   "source": [
    "adata = adata[:,adata.var_names[adata.var_names.isin(mouse_tfs['Symbol'])]]"
   ]
  },
  {
   "cell_type": "code",
   "execution_count": null,
   "metadata": {},
   "outputs": [],
   "source": [
    "allTiss = list(set(adata.obs['tissue']))\n",
    "for i in range(len(allTiss)):\n",
    "    print (allTiss[i])\n",
    "    tissue = allTiss[i]\n",
    "    tiss_running = adata[adata.obs['tissue']==tissue].copy()\n",
    "    allAge = list(set(tiss_running.obs['age']))\n",
    "    for i in range(len(allAge)):\n",
    "        print (allAge[i])\n",
    "        age = allAge[i]\n",
    "        age_running = tiss_running[tiss_running.obs['age']==age].copy()\n",
    "        allAge[i] = scRFE(adata = age_running, classOfInterest = 'cell_ontology_class', \n",
    "                          nEstimators = 1000, Cv =5)[0]\n",
    "        allAge[i].to_csv(age+tissue+'droplet1000tfcelltype2'+'.csv')"
   ]
  },
  {
   "cell_type": "code",
   "execution_count": null,
   "metadata": {},
   "outputs": [],
   "source": [
    "# FACS"
   ]
  },
  {
   "cell_type": "code",
   "execution_count": null,
   "metadata": {},
   "outputs": [],
   "source": [
    "facsAdata = read_h5ad('/data/madeline/src3/01_figure_1/tabula-muris-senis-facs-processed-official-annotations.h5ad')"
   ]
  },
  {
   "cell_type": "code",
   "execution_count": null,
   "metadata": {},
   "outputs": [],
   "source": [
    "facsAdata = facsAdata[:,facsAdata.var_names[facsAdata.var_names.isin(mouse_tfs['Symbol'])]]"
   ]
  },
  {
   "cell_type": "code",
   "execution_count": null,
   "metadata": {},
   "outputs": [],
   "source": [
    "facsAllTiss = list(set(facsAdata.obs['tissue']))\n",
    "for i in range(len(facsAllTiss)):\n",
    "    print (facsAllTiss[i])\n",
    "    tissue = facsAllTiss[i]\n",
    "    tiss_running = facsAdata[facsAdata.obs['tissue']==tissue].copy()\n",
    "    facsAllAge = list(set(tiss_running.obs['age']))\n",
    "    for i in range(len(facsAllAge)):\n",
    "        print (facsAllAge[i])\n",
    "        age = facsAllAge[i]\n",
    "        age_running = tiss_running[tiss_running.obs['age']==age].copy()\n",
    "        allAge[i] = scRFE(adata = age_running, classOfInterest = 'cell_ontology_class', \n",
    "                          nEstimators =1000, Cv = 5)[0]\n",
    "        allAge[i].to_csv(age+tissue+'facs1000tfcelltype2'+'.csv')"
   ]
  },
  {
   "cell_type": "code",
   "execution_count": null,
   "metadata": {},
   "outputs": [],
   "source": []
  },
  {
   "cell_type": "code",
   "execution_count": null,
   "metadata": {},
   "outputs": [],
   "source": []
  },
  {
   "cell_type": "code",
   "execution_count": null,
   "metadata": {},
   "outputs": [],
   "source": []
  },
  {
   "cell_type": "code",
   "execution_count": null,
   "metadata": {},
   "outputs": [],
   "source": []
  }
 ],
 "metadata": {
  "kernelspec": {
   "display_name": "Python(scRFE1)",
   "language": "python",
   "name": "scrfe1"
  },
  "language_info": {
   "codemirror_mode": {
    "name": "ipython",
    "version": 3
   },
   "file_extension": ".py",
   "mimetype": "text/x-python",
   "name": "python",
   "nbconvert_exporter": "python",
   "pygments_lexer": "ipython3",
   "version": "3.7.6"
  }
 },
 "nbformat": 4,
 "nbformat_minor": 4
}
