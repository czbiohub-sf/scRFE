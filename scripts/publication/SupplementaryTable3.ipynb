{
 "cells": [
  {
   "cell_type": "markdown",
   "metadata": {},
   "source": [
    "# scRFE results for supplementary table 3"
   ]
  },
  {
   "cell_type": "code",
   "execution_count": 1,
   "metadata": {},
   "outputs": [],
   "source": [
    "# tissueTfs-celltype"
   ]
  },
  {
   "cell_type": "code",
   "execution_count": null,
   "metadata": {},
   "outputs": [],
   "source": [
    "from scRFE.scRFE import scRFE\n",
    "from anndata import read_h5ad\n",
    "import pandas as pd "
   ]
  },
  {
   "cell_type": "code",
   "execution_count": null,
   "metadata": {},
   "outputs": [],
   "source": [
    "# facs"
   ]
  },
  {
   "cell_type": "code",
   "execution_count": null,
   "metadata": {},
   "outputs": [],
   "source": [
    "adata = read_h5ad('/data/madeline/src3/01_figure_1/tabula-muris-senis-facs-processed-official-annotations.h5ad')"
   ]
  },
  {
   "cell_type": "code",
   "execution_count": null,
   "metadata": {},
   "outputs": [],
   "source": [
    "mouse_tfs = pd.read_csv(\"/home/angela/maca/GO_term_summary_20171110_222852.csv\")"
   ]
  },
  {
   "cell_type": "code",
   "execution_count": null,
   "metadata": {},
   "outputs": [],
   "source": [
    "FacsAdata = adata[:,adata.var_names[adata.var_names.isin(mouse_tfs['Symbol'])]]"
   ]
  },
  {
   "cell_type": "code",
   "execution_count": null,
   "metadata": {},
   "outputs": [],
   "source": [
    "allTiss = list(set(FacsAdata.obs['tissue']))\n",
    "for i in range(len(allTiss)):\n",
    "    print (allTiss[i])\n",
    "    tissue = allTiss[i]\n",
    "    tiss_running = FacsAdata[FacsAdata.obs['tissue']==tissue].copy()\n",
    "    allTiss[i] = scRFE(adata = tiss_running, classOfInterest = 'cell_ontology_class', \n",
    "                          nEstimators =1000, Cv = 5)[0]\n",
    "    allTiss[i].to_csv(tissue+'facs1000tfcelltype2'+'.csv')"
   ]
  },
  {
   "cell_type": "code",
   "execution_count": null,
   "metadata": {},
   "outputs": [],
   "source": [
    "# droplet"
   ]
  },
  {
   "cell_type": "code",
   "execution_count": null,
   "metadata": {},
   "outputs": [],
   "source": [
    "DropletAdata = read_h5ad('/data/madeline/src3/01_figure_1/tabula-muris-senis-droplet-processed-official-annotations.h5ad')"
   ]
  },
  {
   "cell_type": "code",
   "execution_count": null,
   "metadata": {},
   "outputs": [],
   "source": [
    "DropletAdata = DropletAdata[:,DropletAdata.var_names[DropletAdata.var_names.isin(mouse_tfs['Symbol'])]]"
   ]
  },
  {
   "cell_type": "code",
   "execution_count": null,
   "metadata": {},
   "outputs": [],
   "source": [
    "allTiss = list(set(DropletAdata.obs['tissue']))\n",
    "for i in range(len(allTiss)):\n",
    "    print (allTiss[i])\n",
    "    tissue = allTiss[i]\n",
    "    tiss_running = DropletAdata[DropletAdata.obs['tissue']==tissue].copy()\n",
    "    allTiss[i] = scRFE(adata = tiss_running, classOfInterest = 'cell_ontology_class', \n",
    "                          nEstimators =1000, Cv = 5)[0]\n",
    "    allTiss[i].to_csv(tissue+'droplet1000tfcelltype2'+'.csv')"
   ]
  },
  {
   "cell_type": "code",
   "execution_count": null,
   "metadata": {},
   "outputs": [],
   "source": []
  },
  {
   "cell_type": "code",
   "execution_count": null,
   "metadata": {},
   "outputs": [],
   "source": []
  }
 ],
 "metadata": {
  "kernelspec": {
   "display_name": "Python(scRFE1)",
   "language": "python",
   "name": "scrfe1"
  },
  "language_info": {
   "codemirror_mode": {
    "name": "ipython",
    "version": 3
   },
   "file_extension": ".py",
   "mimetype": "text/x-python",
   "name": "python",
   "nbconvert_exporter": "python",
   "pygments_lexer": "ipython3",
   "version": "3.7.6"
  }
 },
 "nbformat": 4,
 "nbformat_minor": 4
}
