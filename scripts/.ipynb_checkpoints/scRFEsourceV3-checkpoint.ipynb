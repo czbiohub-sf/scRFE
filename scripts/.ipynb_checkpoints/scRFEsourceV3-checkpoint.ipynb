{
 "cells": [
  {
   "cell_type": "markdown",
   "metadata": {},
   "source": [
    "# scRFE source V2"
   ]
  },
  {
   "cell_type": "code",
   "execution_count": 1,
   "metadata": {},
   "outputs": [],
   "source": [
    "# cleaning up code after meeting with Sevahn"
   ]
  },
  {
   "cell_type": "code",
   "execution_count": 2,
   "metadata": {},
   "outputs": [],
   "source": [
    "# all code broken up into separate arguments for scRFE"
   ]
  },
  {
   "cell_type": "code",
   "execution_count": 87,
   "metadata": {},
   "outputs": [],
   "source": [
    "# Imports \n",
    "import numpy as np\n",
    "import pandas as pd\n",
    "import scanpy as sc\n",
    "from anndata import read_h5ad\n",
    "from sklearn.ensemble import RandomForestClassifier\n",
    "from sklearn.model_selection import train_test_split\n",
    "from sklearn.feature_selection import SelectFromModel\n",
    "from sklearn.metrics import accuracy_score\n",
    "from sklearn.feature_selection import RFE\n",
    "from sklearn.feature_selection import RFECV"
   ]
  },
  {
   "cell_type": "code",
   "execution_count": 88,
   "metadata": {},
   "outputs": [],
   "source": [
    "# read in data \n",
    "adata = read_h5ad('/Users/madelinepark/Downloads/Kidney_facs.h5ad')\n",
    "tiss = adata"
   ]
  },
  {
   "cell_type": "code",
   "execution_count": 89,
   "metadata": {},
   "outputs": [],
   "source": [
    "# split data for training\n",
    "def loc_split_function(tiss, feature='age'):\n",
    "    tiss.obs['feature_type_of_interest'] = 'rest'\n",
    "    for c in list(set(tiss.obs[feature])): \n",
    "        feature_of_interest = c\n",
    "        tiss.obs.loc[tiss.obs[tiss.obs[feature] == feature_of_interest].index,'feature_type_of_interest'] = feature_of_interest\n",
    "        feat_labels = tiss.var_names \n",
    "        X = tiss.X\n",
    "        y = tiss.obs['feature_type_of_interest']\n",
    "    return X, y, feature, feat_labels #this is returning only the last thing in the loop "
   ]
  },
  {
   "cell_type": "code",
   "execution_count": 90,
   "metadata": {},
   "outputs": [],
   "source": [
    "# create random forest and selector, then train\n",
    "def train_function(X, y, test_size, random_state):\n",
    "    print('training...')\n",
    "    loc_split = loc_split_function(tiss=tiss, feature='age')\n",
    "    X = loc_split[0]\n",
    "    y = loc_split[1]\n",
    "    feat_labels = loc_split[3] #this should not be hardcoded #genes be argument\n",
    "    X_train, X_test, y_train, y_test = train_test_split(X, y, test_size=0.05, random_state=0) \n",
    "    clf = RandomForestClassifier(n_estimators=1000, random_state=0, n_jobs=-1, oob_score=True)\n",
    "    selector = RFECV(clf, step=0.2, cv=3, n_jobs=4)\n",
    "    clf.fit(X_train, y_train)\n",
    "    selector.fit(X_train, y_train)\n",
    "    feature_selected = feat_labels[selector.support_]\n",
    "    return selector, clf, feat_labels, feature_selected, selector.estimator_.feature_importances_, X_train, X_test, y_train, y_test"
   ]
  },
  {
   "cell_type": "code",
   "execution_count": 91,
   "metadata": {},
   "outputs": [
    {
     "name": "stdout",
     "output_type": "stream",
     "text": [
      "/Users/madelinepark/src3/scRFE/scRFE-results\n"
     ]
    }
   ],
   "source": [
    "cd /Users/madelinepark/src3/scRFE/scRFE-results"
   ]
  },
  {
   "cell_type": "code",
   "execution_count": 92,
   "metadata": {},
   "outputs": [],
   "source": [
    "# result write\n",
    "def result_write (c, feature_selected, tiss, feature='age',test_size=0.05, random_state=0): \n",
    "    results_df = pd.DataFrame()\n",
    "    print('result writing...')\n",
    "    loc_split = loc_split_function(tiss=tiss, feature= feature)\n",
    "    X = loc_split[0]\n",
    "    y = loc_split[1]\n",
    "    train = train_function(X, y, test_size, random_state)\n",
    "    feat_labels = train[0] \n",
    "    feature_selected = train[3]\n",
    "    gini_scores = train[4]\n",
    "    column_headings = []\n",
    "    column_headings.append(c)\n",
    "    column_headings.append(c + '_gini')\n",
    "    resaux = pd.DataFrame(columns=column_headings)\n",
    "    resaux[c] = feature_selected \n",
    "    resaux[c + '_gini'] = (gini_scores) \n",
    "    results_df = pd.concat([results_df,resaux],axis=1)\n",
    "    tiss.obs['feature_type_of_interest'] = 'rest'\n",
    "    file_name = feature + c + \".csv\"\n",
    "    print(results_df)\n",
    "    results_df.to_csv(file_name) #trying to save results as a csv\n",
    "    return results_df"
   ]
  },
  {
   "cell_type": "code",
   "execution_count": 93,
   "metadata": {},
   "outputs": [],
   "source": [
    "# gini_3_m = result_write (c='3m', feature_selected, tiss, feature='age',test_size=0.05, random_state=0)\n",
    "# gini_24_m = result_write (c='24m', feature_selected, tiss, feature='age',test_size=0.05, random_state=0)"
   ]
  },
  {
   "cell_type": "code",
   "execution_count": 94,
   "metadata": {},
   "outputs": [],
   "source": [
    "# combined functions\n",
    "def scRFE (tiss=tiss, X=tiss.X, feature='age', n_estimators=1000, random_state=0, n_jobs=-1, oob_score=True, test_size = 0.05, step=0.2, cv=5) :\n",
    "    all_trees = []\n",
    "    for c in list(set(tiss.obs[feature])): \n",
    "        print(c)\n",
    "        loc_split = loc_split_function(tiss=tiss, feature= feature)\n",
    "        X = loc_split[0] #change age to feature\n",
    "        y = loc_split[1]\n",
    "        feature = loc_split[2]\n",
    "        feat_labels = loc_split[3]\n",
    "        train = train_function(X, y, test_size, random_state)\n",
    "        feature_selected = train[1]\n",
    "        X_train = train[2]\n",
    "        X_test = train[3]\n",
    "        y_train = train[4]\n",
    "        y_test = train[5]\n",
    "        all_trees += [result_write(c, feature_selected, tiss, feature=feature,test_size=0.05, random_state=0)]\n",
    "        #returns data frames from SCRFE in order\n",
    "        tiss.obs['age_type_of_interest'] = 'rest'\n",
    "    return all_trees\n",
    "#         results_df.to_csv('scRFE-results.csv') #trying to save results as a csv - this didnt work"
   ]
  },
  {
   "cell_type": "code",
   "execution_count": null,
   "metadata": {},
   "outputs": [],
   "source": [
    "scRFE(tiss=tiss, feature='age', n_estimators=10, random_state=0, n_jobs=-1, oob_score=True, test_size = 0.05, step=0.2, cv=5)"
   ]
  },
  {
   "cell_type": "code",
   "execution_count": 96,
   "metadata": {},
   "outputs": [
    {
     "name": "stdout",
     "output_type": "stream",
     "text": [
      "24m\n",
      "training...\n",
      "result writing...\n",
      "training...\n",
      "                24m  24m_gini\n",
      "0     0610005C13Rik  0.000046\n",
      "1     0610007C21Rik  0.000136\n",
      "2     0610007N19Rik  0.000080\n",
      "3     0610009B22Rik  0.000066\n",
      "4     0610009D07Rik  0.000060\n",
      "5     0610010K14Rik  0.000035\n",
      "6     0610010O12Rik  0.000110\n",
      "7     0610011F06Rik  0.000143\n",
      "8     0610011L14Rik  0.000030\n",
      "9     0610012G03Rik  0.000073\n",
      "10    0610012H03Rik  0.000091\n",
      "11    0610031J06Rik  0.000041\n",
      "12    0610037P05Rik  0.000026\n",
      "13    0910001L09Rik  0.000124\n",
      "14    1110001A16Rik  0.000064\n",
      "15    1110001J03Rik  0.000074\n",
      "16    1110003E01Rik  0.000077\n",
      "17    1110004F10Rik  0.000072\n",
      "18    1110007C09Rik  0.000098\n",
      "19    1110008F13Rik  0.000164\n",
      "20    1110017F19Rik  0.000030\n",
      "21    1110038F14Rik  0.000048\n",
      "22    1110065P20Rik  0.000050\n",
      "23    1190002H23Rik  0.000021\n",
      "24    1200016B10Rik  0.000039\n",
      "25    1300001I01Rik  0.000033\n",
      "26    1300010F03Rik  0.000060\n",
      "27    1500003O03Rik  0.000119\n",
      "28    1500011K16Rik  0.000037\n",
      "29    1500032L24Rik  0.000088\n",
      "...             ...       ...\n",
      "4553         Zfp706  0.000124\n",
      "4554         Zfp707  0.000034\n",
      "4555         Zfp750  0.000040\n",
      "4556         Zfp771  0.000042\n",
      "4557         Zfp800  0.000106\n",
      "4558         Zfp809  0.000024\n",
      "4559         Zfp871  0.000066\n",
      "4560          Zfp91  0.000080\n",
      "4561            Zfr  0.000067\n",
      "4562        Zfyve19  0.000014\n",
      "4563        Zfyve21  0.000064\n",
      "4564           Zg16  0.006207\n",
      "4565          Zmat2  0.000045\n",
      "4566          Zmat5  0.000048\n",
      "4567          Zmiz1  0.000095\n",
      "4568          Zmym5  0.000121\n",
      "4569        Zmynd11  0.000055\n",
      "4570         Zmynd8  0.000093\n",
      "4571        Znf512b  0.000051\n",
      "4572         Znhit1  0.000147\n",
      "4573      Znhit2-ps  0.000043\n",
      "4574         Znhit6  0.000005\n",
      "4575          Znrd1  0.000071\n",
      "4576          Znrf1  0.000142\n",
      "4577          Znrf2  0.000052\n",
      "4578         Zranb2  0.000049\n",
      "4579          Zrsr2  0.000027\n",
      "4580          Zwint  0.000051\n",
      "4581         Zyg11b  0.000115\n",
      "4582            Zyx  0.000066\n",
      "\n",
      "[4583 rows x 2 columns]\n",
      "3m\n",
      "training...\n",
      "result writing...\n",
      "training...\n",
      "                 3m   3m_gini\n",
      "0     0610005C13Rik  0.000046\n",
      "1     0610007C21Rik  0.000136\n",
      "2     0610007N19Rik  0.000080\n",
      "3     0610009B22Rik  0.000066\n",
      "4     0610009D07Rik  0.000060\n",
      "5     0610010K14Rik  0.000035\n",
      "6     0610010O12Rik  0.000110\n",
      "7     0610011F06Rik  0.000143\n",
      "8     0610011L14Rik  0.000030\n",
      "9     0610012G03Rik  0.000073\n",
      "10    0610012H03Rik  0.000091\n",
      "11    0610031J06Rik  0.000041\n",
      "12    0610037P05Rik  0.000026\n",
      "13    0910001L09Rik  0.000124\n",
      "14    1110001A16Rik  0.000064\n",
      "15    1110001J03Rik  0.000074\n",
      "16    1110003E01Rik  0.000077\n",
      "17    1110004F10Rik  0.000072\n",
      "18    1110007C09Rik  0.000098\n",
      "19    1110008F13Rik  0.000164\n",
      "20    1110017F19Rik  0.000030\n",
      "21    1110038F14Rik  0.000048\n",
      "22    1110065P20Rik  0.000050\n",
      "23    1190002H23Rik  0.000021\n",
      "24    1200016B10Rik  0.000039\n",
      "25    1300001I01Rik  0.000033\n",
      "26    1300010F03Rik  0.000060\n",
      "27    1500003O03Rik  0.000119\n",
      "28    1500011K16Rik  0.000037\n",
      "29    1500032L24Rik  0.000088\n",
      "...             ...       ...\n",
      "4553         Zfp706  0.000124\n",
      "4554         Zfp707  0.000034\n",
      "4555         Zfp750  0.000040\n",
      "4556         Zfp771  0.000042\n",
      "4557         Zfp800  0.000106\n",
      "4558         Zfp809  0.000024\n",
      "4559         Zfp871  0.000066\n",
      "4560          Zfp91  0.000080\n",
      "4561            Zfr  0.000067\n",
      "4562        Zfyve19  0.000014\n",
      "4563        Zfyve21  0.000064\n",
      "4564           Zg16  0.006207\n",
      "4565          Zmat2  0.000045\n",
      "4566          Zmat5  0.000048\n",
      "4567          Zmiz1  0.000095\n",
      "4568          Zmym5  0.000121\n",
      "4569        Zmynd11  0.000055\n",
      "4570         Zmynd8  0.000093\n",
      "4571        Znf512b  0.000051\n",
      "4572         Znhit1  0.000147\n",
      "4573      Znhit2-ps  0.000043\n",
      "4574         Znhit6  0.000005\n",
      "4575          Znrd1  0.000071\n",
      "4576          Znrf1  0.000142\n",
      "4577          Znrf2  0.000052\n",
      "4578         Zranb2  0.000049\n",
      "4579          Zrsr2  0.000027\n",
      "4580          Zwint  0.000051\n",
      "4581         Zyg11b  0.000115\n",
      "4582            Zyx  0.000066\n",
      "\n",
      "[4583 rows x 2 columns]\n"
     ]
    }
   ],
   "source": [
    "makeAllTrees = scRFE(tiss=tiss, feature='age', n_estimators=10, random_state=0, n_jobs=-1, oob_score=True, test_size = 0.05, step=0.2, cv=5)\n",
    "# age3 = makeAllTrees[1]\n",
    "# age24 = makeAllTrees[0]"
   ]
  },
  {
   "cell_type": "code",
   "execution_count": null,
   "metadata": {},
   "outputs": [],
   "source": [
    "# run function\n",
    "scRFE(tiss=tiss, feature='age', n_estimators=1000, random_state=0, n_jobs=-1, oob_score=True, test_size = 0.05, step=0.2, cv=5)"
   ]
  },
  {
   "cell_type": "code",
   "execution_count": 51,
   "metadata": {},
   "outputs": [
    {
     "data": {
      "text/plain": [
       "'/Users/madelinepark/src3/scRFE/scRFE-results'"
      ]
     },
     "execution_count": 51,
     "metadata": {},
     "output_type": "execute_result"
    }
   ],
   "source": [
    "# how do i get it to append after so the last dataframe doesnt completely overwrite the previous one"
   ]
  },
  {
   "cell_type": "code",
   "execution_count": null,
   "metadata": {},
   "outputs": [],
   "source": [
    "# # combined functions\n",
    "# def scRFE_save (tiss=tiss, X=tiss.X, feature='age', n_estimators=1000, random_state=0, n_jobs=-1, oob_score=True, test_size = 0.05, step=0.2, cv=5) :\n",
    "#     for c in list(set(tiss.obs[feature])): \n",
    "#         print(c)\n",
    "#         X = loc_split(tiss=tiss, feature= feature)[0] #change age to feature\n",
    "#         y = loc_split(tiss=tiss, feature= feature)[1]\n",
    "#         feature = loc_split(tiss=tiss, feature= feature)[2]\n",
    "#         feat_labels = loc_split(tiss=tiss, feature= feature)[3]\n",
    "#         feature_selected = train(X, y, test_size, random_state)[1]\n",
    "#         X_train = train(X, y, test_size, random_state)[2]\n",
    "#         X_test = train(X, y, test_size, random_state)[3]\n",
    "#         y_train = train(X, y, test_size, random_state)[4]\n",
    "#         y_test = train(X, y, test_size, random_state)[5]\n",
    "#         result_write(c, feature_selected, tiss, feature=feature,test_size=0.05, random_state=0)\n",
    "#         tiss.obs['age_type_of_interest'] = 'rest'\n",
    "# #         not sorted"
   ]
  },
  {
   "cell_type": "code",
   "execution_count": null,
   "metadata": {},
   "outputs": [],
   "source": []
  }
 ],
 "metadata": {
  "kernelspec": {
   "display_name": "Python 3",
   "language": "python",
   "name": "python3"
  },
  "language_info": {
   "codemirror_mode": {
    "name": "ipython",
    "version": 3
   },
   "file_extension": ".py",
   "mimetype": "text/x-python",
   "name": "python",
   "nbconvert_exporter": "python",
   "pygments_lexer": "ipython3",
   "version": "3.6.8"
  }
 },
 "nbformat": 4,
 "nbformat_minor": 2
}
