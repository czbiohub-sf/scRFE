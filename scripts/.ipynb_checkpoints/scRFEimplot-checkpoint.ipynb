{
 "cells": [
  {
   "cell_type": "markdown",
   "metadata": {},
   "source": [
    "# scRFEimplot"
   ]
  },
  {
   "cell_type": "code",
   "execution_count": 92,
   "metadata": {},
   "outputs": [],
   "source": [
    "# import dependencies\n",
    "import numpy as np\n",
    "import pandas as pd\n",
    "import scanpy as sc\n",
    "import random\n",
    "import logging as logg\n",
    "from sklearn.ensemble import RandomForestClassifier\n",
    "from sklearn.model_selection import train_test_split\n",
    "from sklearn.feature_selection import SelectFromModel\n",
    "from sklearn.model_selection import StratifiedKFold\n",
    "from sklearn.feature_selection import RFECV\n",
    "from sklearn.metrics import accuracy_score\n",
    "from sklearn.inspection import permutation_importance\n",
    "import matplotlib.pyplot as plt"
   ]
  },
  {
   "cell_type": "code",
   "execution_count": 65,
   "metadata": {},
   "outputs": [],
   "source": [
    "def scRFEimplot(X_new,y):\n",
    "    \"\"\"\n",
    "    Plots permutation importance of each feature selected by scRFE.\n",
    "    Parameters\n",
    "    ----------\n",
    "    X_new : sparse matrix \n",
    "    Transformed array of selected features.\n",
    "    y : pandas series\n",
    "    Target labels.\n",
    "    Returns\n",
    "    -------\n",
    "    plt : module matplotlib.pyplot\n",
    "    Can be pickled, then saved.\n",
    "    \"\"\"\n",
    "    rf = RandomForestClassifier(random_state=0).fit(X_new, y)\n",
    "    result = permutation_importance(rf, X_new.todense(), y, n_repeats=10, random_state=0,\n",
    "        n_jobs=-1)\n",
    "    fig, ax = plt.subplots()\n",
    "    sorted_idx = result.importances_mean.argsort()\n",
    "    ax.boxplot(result.importances[sorted_idx].T*100,\n",
    "        vert=False, labels=range(X_new.shape[1]))\n",
    "    ax.set_title(\"Permutation Importance of each feature\")\n",
    "    ax.set_ylabel(\"Features\")\n",
    "    fig.tight_layout()\n",
    "\n",
    "    plt.show()\n",
    "    return plt"
   ]
  },
  {
   "cell_type": "code",
   "execution_count": 66,
   "metadata": {},
   "outputs": [
    {
     "data": {
      "image/png": "[encoded data removed]",
      "text/plain": [
       "<Figure size 432x288 with 1 Axes>"
      ]
     },
     "metadata": {
      "needs_background": "light"
     },
     "output_type": "display_data"
    }
   ],
   "source": [
    "# test3 = scRFEimplot(X_new = test1[3], y = test1[4])"
   ]
  },
  {
   "cell_type": "code",
   "execution_count": 48,
   "metadata": {},
   "outputs": [
    {
     "data": {
      "text/plain": [
       "module"
      ]
     },
     "execution_count": 48,
     "metadata": {},
     "output_type": "execute_result"
    }
   ],
   "source": [
    "# type(test3)"
   ]
  },
  {
   "cell_type": "code",
   "execution_count": null,
   "metadata": {},
   "outputs": [],
   "source": []
  }
 ],
 "metadata": {
  "kernelspec": {
   "display_name": "Python(scRFE1)",
   "language": "python",
   "name": "scrfe1"
  },
  "language_info": {
   "codemirror_mode": {
    "name": "ipython",
    "version": 3
   },
   "file_extension": ".py",
   "mimetype": "text/x-python",
   "name": "python",
   "nbconvert_exporter": "python",
   "pygments_lexer": "ipython3",
   "version": "3.7.6"
  }
 },
 "nbformat": 4,
 "nbformat_minor": 4
}
