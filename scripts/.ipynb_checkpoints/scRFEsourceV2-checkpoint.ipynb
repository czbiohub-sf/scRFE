{
 "cells": [
  {
   "cell_type": "markdown",
   "metadata": {},
   "source": [
    "# scRFE source V2"
   ]
  },
  {
   "cell_type": "code",
   "execution_count": 39,
   "metadata": {},
   "outputs": [],
   "source": [
    "# cleaning up code after meeting with Sevahn"
   ]
  },
  {
   "cell_type": "code",
   "execution_count": 40,
   "metadata": {},
   "outputs": [],
   "source": [
    "# all code broken up into separate arguments for scRFE"
   ]
  },
  {
   "cell_type": "code",
   "execution_count": 41,
   "metadata": {},
   "outputs": [],
   "source": [
    "# Imports \n",
    "import numpy as np\n",
    "import pandas as pd\n",
    "import scanpy as sc\n",
    "from anndata import read_h5ad\n",
    "from sklearn.ensemble import RandomForestClassifier\n",
    "from sklearn.model_selection import train_test_split\n",
    "from sklearn.feature_selection import SelectFromModel\n",
    "from sklearn.metrics import accuracy_score\n",
    "from sklearn.feature_selection import RFE\n",
    "from sklearn.feature_selection import RFECV"
   ]
  },
  {
   "cell_type": "code",
   "execution_count": 42,
   "metadata": {},
   "outputs": [],
   "source": [
    "# read in data \n",
    "adata = read_h5ad('/Users/madelinepark/Downloads/Limb_Muscle_facs.h5ad')\n",
    "tiss = adata"
   ]
  },
  {
   "cell_type": "code",
   "execution_count": 43,
   "metadata": {},
   "outputs": [],
   "source": [
    "# split data for training\n",
    "def loc_split_function(tiss, feature='age'):\n",
    "    tiss.obs['feature_type_of_interest'] = 'rest'\n",
    "    results_feature_cv = pd.DataFrame()\n",
    "    for c in list(set(tiss.obs[feature])): \n",
    "        feature_of_interest = c\n",
    "        tiss.obs.loc[tiss.obs[tiss.obs[feature] == feature_of_interest].index,'feature_type_of_interest'] = feature_of_interest\n",
    "        feat_labels = tiss.var_names \n",
    "        X = tiss.X\n",
    "        y = tiss.obs['feature_type_of_interest']\n",
    "    return X, y, feature, feat_labels #this is returning only the last thing in the loop "
   ]
  },
  {
   "cell_type": "code",
   "execution_count": 44,
   "metadata": {},
   "outputs": [],
   "source": [
    "# create random forest and selector, then train\n",
    "def train(X, y, test_size, random_state):\n",
    "    print('training...')\n",
    "    loc_split = loc_split_function(tiss=tiss, feature='age')\n",
    "    X = loc_split[0]\n",
    "    y = loc_split[1]\n",
    "    feat_labels = loc_split[3] #this should not be hardcoded #genes be argument\n",
    "    X_train, X_test, y_train, y_test = train_test_split(X, y, test_size=0.05, random_state=0) \n",
    "    clf = RandomForestClassifier(n_estimators=1000, random_state=0, n_jobs=-1, oob_score=True)\n",
    "    selector = RFECV(clf, step=0.2, cv=3, n_jobs=4)\n",
    "    clf.fit(X_train, y_train)\n",
    "    selector.fit(X_train, y_train)\n",
    "    feature_selected = feat_labels[selector.support_]\n",
    "    return selector, clf, feat_labels, feature_selected, selector.estimator_.feature_importances_, X_train, X_test, y_train, y_test"
   ]
  },
  {
   "cell_type": "code",
   "execution_count": 47,
   "metadata": {},
   "outputs": [
    {
     "name": "stdout",
     "output_type": "stream",
     "text": [
      "/Users/madelinepark/src3/scRFE/scRFE-results\n"
     ]
    }
   ],
   "source": [
    "cd /Users/madelinepark/src3/scRFE/scRFE-results"
   ]
  },
  {
   "cell_type": "code",
   "execution_count": 48,
   "metadata": {},
   "outputs": [],
   "source": [
    "# result write\n",
    "def result_write (c, feature_selected, tiss, feature='age',test_size=0.05, random_state=0): \n",
    "    results_feature_cv = pd.DataFrame()\n",
    "    print('result writing...')\n",
    "    X = loc_split(tiss=tiss, feature= feature)[0]\n",
    "    y = loc_split(tiss=tiss, feature= feature)[1]\n",
    "    feat_labels = train(X, y, test_size= 0.05, random_state=0)[0] \n",
    "    feature_selected = train(X, y, test_size, random_state)[3]\n",
    "    gini_scores = train(X, y, test_size, random_state)[4]\n",
    "    column_headings = []\n",
    "    column_headings.append(c)\n",
    "    column_headings.append(c + '_gini')\n",
    "    resaux = pd.DataFrame(columns=column_headings)\n",
    "    resaux[c] = feature_selected \n",
    "    resaux[c + '_gini'] = (gini_scores) \n",
    "#     print(feature_selected)\n",
    "#     print (gini_scores)\n",
    "    results_feature_cv = pd.concat([results_feature_cv,resaux],axis=1)\n",
    "    tiss.obs['feature_type_of_interest'] = 'rest'\n",
    "    print(results_feature_cv)\n",
    "    results_feature_cv.to_csv('scRFE-results.csv') #trying to save results as a csv\n",
    "    return results_feature_cv"
   ]
  },
  {
   "cell_type": "code",
   "execution_count": 49,
   "metadata": {},
   "outputs": [],
   "source": [
    "# combined functions\n",
    "def scRFE (tiss=tiss, X=tiss.X, feature='age', n_estimators=1000, random_state=0, n_jobs=-1, oob_score=True, test_size = 0.05, step=0.2, cv=5) :\n",
    "    for c in list(set(tiss.obs[feature])): \n",
    "        print(c)\n",
    "        X = loc_split(tiss=tiss, feature= feature)[0] #change age to feature\n",
    "        y = loc_split(tiss=tiss, feature= feature)[1]\n",
    "        feature = loc_split(tiss=tiss, feature= feature)[2]\n",
    "        feat_labels = loc_split(tiss=tiss, feature= feature)[3]\n",
    "        feature_selected = train(X, y, test_size, random_state)[1]\n",
    "        X_train = train(X, y, test_size, random_state)[2]\n",
    "        X_test = train(X, y, test_size, random_state)[3]\n",
    "        y_train = train(X, y, test_size, random_state)[4]\n",
    "        y_test = train(X, y, test_size, random_state)[5]\n",
    "        result_write(c, feature_selected, tiss, feature=feature,test_size=0.05, random_state=0)\n",
    "        tiss.obs['age_type_of_interest'] = 'rest'\n",
    "#         not sorted"
   ]
  },
  {
   "cell_type": "code",
   "execution_count": 50,
   "metadata": {},
   "outputs": [
    {
     "name": "stdout",
     "output_type": "stream",
     "text": [
      "24m\n",
      "training...\n",
      "training...\n",
      "training...\n",
      "training...\n",
      "training...\n",
      "result writing...\n",
      "training...\n",
      "training...\n",
      "training...\n",
      "                24m  24m_gini\n",
      "0     0610007C21Rik  0.000098\n",
      "1     0610007L01Rik  0.000057\n",
      "2     0610007N19Rik  0.000034\n",
      "3     0610007P22Rik  0.000014\n",
      "4     0610009D07Rik  0.000036\n",
      "5     0610009O20Rik  0.000029\n",
      "6     0610010K14Rik  0.000082\n",
      "7     0610010O12Rik  0.000025\n",
      "8     0610011F06Rik  0.000028\n",
      "9     0610031J06Rik  0.000032\n",
      "10    0610037L13Rik  0.000057\n",
      "11    0910001L09Rik  0.000041\n",
      "12    1110002B05Rik  0.000046\n",
      "13    1110003E01Rik  0.000169\n",
      "14    1110004F10Rik  0.000055\n",
      "15    1110007C09Rik  0.000068\n",
      "16    1110008F13Rik  0.000070\n",
      "17    1110037F02Rik  0.000035\n",
      "18    1110038B12Rik  0.000010\n",
      "19    1110038F14Rik  0.000048\n",
      "20    1110051M20Rik  0.000026\n",
      "21    1190002H23Rik  0.000081\n",
      "22    1190002N15Rik  0.000070\n",
      "23    1190003J15Rik  0.000058\n",
      "24    1300014I06Rik  0.000058\n",
      "25    1500003O03Rik  0.001863\n",
      "26    1500012F01Rik  0.000054\n",
      "27    1500032L24Rik  0.000087\n",
      "28    1600029D21Rik  0.000070\n",
      "29    1700019D03Rik  0.000014\n",
      "...             ...       ...\n",
      "4553         Zfp703  0.000034\n",
      "4554         Zfp706  0.000033\n",
      "4555         Zfp760  0.000016\n",
      "4556         Zfp830  0.000043\n",
      "4557         Zfp866  0.000033\n",
      "4558         Zfp869  0.000027\n",
      "4559         Zfp871  0.000023\n",
      "4560        Zfp874a  0.000004\n",
      "4561         Zfp948  0.000075\n",
      "4562            Zfr  0.000183\n",
      "4563        Zfyve19  0.000025\n",
      "4564           Zhx1  0.000082\n",
      "4565           Zhx2  0.000029\n",
      "4566           Zhx3  0.000153\n",
      "4567          Zmat2  0.000089\n",
      "4568          Zmym5  0.000095\n",
      "4569        Zmynd11  0.000040\n",
      "4570         Zmynd8  0.000075\n",
      "4571         Znhit1  0.000068\n",
      "4572         Znhit3  0.000022\n",
      "4573          Znrf1  0.000029\n",
      "4574          Znrf2  0.000018\n",
      "4575         Zranb1  0.000074\n",
      "4576         Zranb2  0.000045\n",
      "4577          Zrsr2  0.000031\n",
      "4578         Zswim4  0.000178\n",
      "4579         Zswim6  0.000028\n",
      "4580            Zyx  0.000160\n",
      "4581          Zzef1  0.000040\n",
      "4582          l7Rn6  0.000051\n",
      "\n",
      "[4583 rows x 2 columns]\n",
      "3m\n",
      "training...\n",
      "training...\n",
      "training...\n",
      "training...\n",
      "training...\n",
      "result writing...\n",
      "training...\n",
      "training...\n",
      "training...\n",
      "                 3m   3m_gini\n",
      "0     0610007C21Rik  0.000098\n",
      "1     0610007L01Rik  0.000057\n",
      "2     0610007N19Rik  0.000034\n",
      "3     0610007P22Rik  0.000014\n",
      "4     0610009D07Rik  0.000036\n",
      "5     0610009O20Rik  0.000029\n",
      "6     0610010K14Rik  0.000082\n",
      "7     0610010O12Rik  0.000025\n",
      "8     0610011F06Rik  0.000028\n",
      "9     0610031J06Rik  0.000032\n",
      "10    0610037L13Rik  0.000057\n",
      "11    0910001L09Rik  0.000041\n",
      "12    1110002B05Rik  0.000046\n",
      "13    1110003E01Rik  0.000169\n",
      "14    1110004F10Rik  0.000055\n",
      "15    1110007C09Rik  0.000068\n",
      "16    1110008F13Rik  0.000070\n",
      "17    1110037F02Rik  0.000035\n",
      "18    1110038B12Rik  0.000010\n",
      "19    1110038F14Rik  0.000048\n",
      "20    1110051M20Rik  0.000026\n",
      "21    1190002H23Rik  0.000081\n",
      "22    1190002N15Rik  0.000070\n",
      "23    1190003J15Rik  0.000058\n",
      "24    1300014I06Rik  0.000058\n",
      "25    1500003O03Rik  0.001863\n",
      "26    1500012F01Rik  0.000054\n",
      "27    1500032L24Rik  0.000087\n",
      "28    1600029D21Rik  0.000070\n",
      "29    1700019D03Rik  0.000014\n",
      "...             ...       ...\n",
      "4553         Zfp703  0.000034\n",
      "4554         Zfp706  0.000033\n",
      "4555         Zfp760  0.000016\n",
      "4556         Zfp830  0.000043\n",
      "4557         Zfp866  0.000033\n",
      "4558         Zfp869  0.000027\n",
      "4559         Zfp871  0.000023\n",
      "4560        Zfp874a  0.000004\n",
      "4561         Zfp948  0.000075\n",
      "4562            Zfr  0.000183\n",
      "4563        Zfyve19  0.000025\n",
      "4564           Zhx1  0.000082\n",
      "4565           Zhx2  0.000029\n",
      "4566           Zhx3  0.000153\n",
      "4567          Zmat2  0.000089\n",
      "4568          Zmym5  0.000095\n",
      "4569        Zmynd11  0.000040\n",
      "4570         Zmynd8  0.000075\n",
      "4571         Znhit1  0.000068\n",
      "4572         Znhit3  0.000022\n",
      "4573          Znrf1  0.000029\n",
      "4574          Znrf2  0.000018\n",
      "4575         Zranb1  0.000074\n",
      "4576         Zranb2  0.000045\n",
      "4577          Zrsr2  0.000031\n",
      "4578         Zswim4  0.000178\n",
      "4579         Zswim6  0.000028\n",
      "4580            Zyx  0.000160\n",
      "4581          Zzef1  0.000040\n",
      "4582          l7Rn6  0.000051\n",
      "\n",
      "[4583 rows x 2 columns]\n"
     ]
    }
   ],
   "source": [
    "# run function\n",
    "scRFE(tiss=tiss, feature='age', n_estimators=1000, random_state=0, n_jobs=-1, oob_score=True, test_size = 0.05, step=0.2, cv=5)"
   ]
  },
  {
   "cell_type": "code",
   "execution_count": 30,
   "metadata": {},
   "outputs": [
    {
     "ename": "NameError",
     "evalue": "name 'results_feature_cv' is not defined",
     "output_type": "error",
     "traceback": [
      "\u001b[0;31m---------------------------------------------------------------------------\u001b[0m",
      "\u001b[0;31mNameError\u001b[0m                                 Traceback (most recent call last)",
      "\u001b[0;32m<ipython-input-30-4cf1b86f8dca>\u001b[0m in \u001b[0;36m<module>\u001b[0;34m\u001b[0m\n\u001b[0;32m----> 1\u001b[0;31m \u001b[0mresults_feature_cv\u001b[0m\u001b[0;34m\u001b[0m\u001b[0;34m\u001b[0m\u001b[0m\n\u001b[0m",
      "\u001b[0;31mNameError\u001b[0m: name 'results_feature_cv' is not defined"
     ]
    }
   ],
   "source": [
    "results_feature_cv"
   ]
  },
  {
   "cell_type": "code",
   "execution_count": null,
   "metadata": {},
   "outputs": [],
   "source": [
    "# # combined functions\n",
    "# def scRFE_save (tiss=tiss, X=tiss.X, feature='age', n_estimators=1000, random_state=0, n_jobs=-1, oob_score=True, test_size = 0.05, step=0.2, cv=5) :\n",
    "#     for c in list(set(tiss.obs[feature])): \n",
    "#         print(c)\n",
    "#         X = loc_split(tiss=tiss, feature= feature)[0] #change age to feature\n",
    "#         y = loc_split(tiss=tiss, feature= feature)[1]\n",
    "#         feature = loc_split(tiss=tiss, feature= feature)[2]\n",
    "#         feat_labels = loc_split(tiss=tiss, feature= feature)[3]\n",
    "#         feature_selected = train(X, y, test_size, random_state)[1]\n",
    "#         X_train = train(X, y, test_size, random_state)[2]\n",
    "#         X_test = train(X, y, test_size, random_state)[3]\n",
    "#         y_train = train(X, y, test_size, random_state)[4]\n",
    "#         y_test = train(X, y, test_size, random_state)[5]\n",
    "#         result_write(c, feature_selected, tiss, feature=feature,test_size=0.05, random_state=0)\n",
    "#         tiss.obs['age_type_of_interest'] = 'rest'\n",
    "# #         not sorted"
   ]
  }
 ],
 "metadata": {
  "kernelspec": {
   "display_name": "Python 3",
   "language": "python",
   "name": "python3"
  },
  "language_info": {
   "codemirror_mode": {
    "name": "ipython",
    "version": 3
   },
   "file_extension": ".py",
   "mimetype": "text/x-python",
   "name": "python",
   "nbconvert_exporter": "python",
   "pygments_lexer": "ipython3",
   "version": "3.6.8"
  }
 },
 "nbformat": 4,
 "nbformat_minor": 2
}
